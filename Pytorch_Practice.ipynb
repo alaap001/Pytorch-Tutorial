{
 "cells": [
  {
   "cell_type": "code",
   "execution_count": 1,
   "metadata": {
    "id": "QMwwtQ9F3b3H"
   },
   "outputs": [],
   "source": [
    "import torch\n",
    "import numpy as np"
   ]
  },
  {
   "cell_type": "code",
   "execution_count": 3,
   "metadata": {
    "colab": {
     "base_uri": "https://localhost:8080/",
     "height": 69
    },
    "id": "4iarfkLR3c1e",
    "outputId": "e40a713e-dfc8-4fa5-d4a3-94eed7c63017"
   },
   "outputs": [
    {
     "name": "stdout",
     "output_type": "stream",
     "text": [
      "tensor([[0.6879, 0.1987, 0.5297],\n",
      "        [0.1692, 0.3491, 0.4382]]) tensor([[1., 1., 1.],\n",
      "        [1., 1., 1.]])\n"
     ]
    }
   ],
   "source": [
    "x = torch.rand(2,3)\n",
    "y = torch.ones(x.size())\n",
    "print(x,y)"
   ]
  },
  {
   "cell_type": "code",
   "execution_count": 4,
   "metadata": {},
   "outputs": [
    {
     "data": {
      "text/plain": [
       "tensor([[0., 0., 0.],\n",
       "        [0., 0., 0.],\n",
       "        [0., 0., 0.]])"
      ]
     },
     "execution_count": 4,
     "metadata": {},
     "output_type": "execute_result"
    }
   ],
   "source": [
    "\n",
    "# Other common initialization methods (there exists a ton more)\n",
    "x = torch.empty(size=(3, 3))  # Tensor of shape 3x3 with uninitialized data\n",
    "x"
   ]
  },
  {
   "cell_type": "code",
   "execution_count": 5,
   "metadata": {},
   "outputs": [
    {
     "data": {
      "text/plain": [
       "tensor([[0.3167, 0.3000, 0.6178],\n",
       "        [0.6631, 0.4331, 0.3072],\n",
       "        [0.1302, 0.7735, 0.3374]])"
      ]
     },
     "execution_count": 5,
     "metadata": {},
     "output_type": "execute_result"
    }
   ],
   "source": [
    "x = torch.zeros((3, 3))  # Tensor of shape 3x3 with values of 0\n",
    "x = torch.rand((3, 3))  # Tensor of shape 3x3 with values from uniform distribution in interval [0,1)\n",
    "x"
   ]
  },
  {
   "cell_type": "code",
   "execution_count": 6,
   "metadata": {},
   "outputs": [
    {
     "data": {
      "text/plain": [
       "tensor([[1., 0., 0., 0., 0.],\n",
       "        [0., 1., 0., 0., 0.],\n",
       "        [0., 0., 1., 0., 0.],\n",
       "        [0., 0., 0., 1., 0.],\n",
       "        [0., 0., 0., 0., 1.]])"
      ]
     },
     "execution_count": 6,
     "metadata": {},
     "output_type": "execute_result"
    }
   ],
   "source": [
    "x = torch.ones((3, 3))  # Tensor of shape 3x3 with values of 1\n",
    "x = torch.eye(5, 5)  # Returns Identity Matrix I, (I <-> Eye), matrix of shape 2x3\n",
    "x"
   ]
  },
  {
   "cell_type": "code",
   "execution_count": 9,
   "metadata": {},
   "outputs": [
    {
     "name": "stdout",
     "output_type": "stream",
     "text": [
      "x arange - tensor([0, 1, 2, 3, 4])\n",
      "x linespace tensor([0.1000, 0.2000, 0.3000, 0.4000, 0.5000, 0.6000, 0.7000, 0.8000, 0.9000,\n",
      "        1.0000])\n"
     ]
    }
   ],
   "source": [
    "x = torch.arange(\n",
    "    start=0, end=5, step=1\n",
    ")  # Tensor [0, 1, 2, 3, 4], note, can also do: torch.arange(11)\n",
    "print(f\"x arange - {x}\")\n",
    "x = torch.linspace(start=0.1, end=1, steps=10)  # x = [0.1, 0.2, ..., 1]\n",
    "print(f\"x linespace {x}\")"
   ]
  },
  {
   "cell_type": "code",
   "execution_count": 10,
   "metadata": {},
   "outputs": [
    {
     "name": "stdout",
     "output_type": "stream",
     "text": [
      "Converted Boolean: tensor([False,  True,  True,  True])\n",
      "Converted int16 tensor([0, 1, 2, 3], dtype=torch.int16)\n",
      "Converted int64 tensor([0, 1, 2, 3])\n",
      "Converted float16 tensor([0., 1., 2., 3.], dtype=torch.float16)\n",
      "Converted float32 tensor([0., 1., 2., 3.])\n",
      "Converted float64 tensor([0., 1., 2., 3.], dtype=torch.float64)\n"
     ]
    },
    {
     "data": {
      "text/plain": [
       "array([[0., 0., 0., 0., 0.],\n",
       "       [0., 0., 0., 0., 0.],\n",
       "       [0., 0., 0., 0., 0.],\n",
       "       [0., 0., 0., 0., 0.],\n",
       "       [0., 0., 0., 0., 0.]])"
      ]
     },
     "execution_count": 10,
     "metadata": {},
     "output_type": "execute_result"
    }
   ],
   "source": [
    "# How to make initialized tensors to other types (int, float, double)\n",
    "# These will work even if you're on CPU or CUDA!\n",
    "tensor = torch.arange(4)  # [0, 1, 2, 3] Initialized as int64 by default\n",
    "print(f\"Converted Boolean: {tensor.bool()}\")  # Converted to Boolean: 1 if nonzero\n",
    "print(f\"Converted int16 {tensor.short()}\")  # Converted to int16\n",
    "print(\n",
    "    f\"Converted int64 {tensor.long()}\"\n",
    ")  # Converted to int64 (This one is very important, used super often)\n",
    "print(f\"Converted float16 {tensor.half()}\")  # Converted to float16\n",
    "print(\n",
    "    f\"Converted float32 {tensor.float()}\"\n",
    ")  # Converted to float32 (This one is very important, used super often)\n",
    "print(f\"Converted float64 {tensor.double()}\")  # Converted to float64\n",
    "\n",
    "# Array to Tensor conversion and vice-versa\n",
    "import numpy as np\n",
    "\n",
    "np_array = np.zeros((5, 5))\n",
    "tensor = torch.from_numpy(np_array)\n",
    "np_array_again = (tensor.numpy())  # np_array_again will be same as np_array (perhaps with numerical round offs)\n",
    "np_array_again"
   ]
  },
  {
   "cell_type": "code",
   "execution_count": 12,
   "metadata": {
    "colab": {
     "base_uri": "https://localhost:8080/",
     "height": 52
    },
    "id": "hYYw4Jzb3c4p",
    "outputId": "ae848e69-88c8-4491-da3c-594da4404f69"
   },
   "outputs": [
    {
     "data": {
      "text/plain": [
       "tensor([1.1000, 1.2000, 1.3000, 1.4000, 1.5000, 1.6000, 1.7000, 1.8000, 1.9000,\n",
       "        2.0000])"
      ]
     },
     "execution_count": 12,
     "metadata": {},
     "output_type": "execute_result"
    }
   ],
   "source": [
    "x.add_(1) # _ indicated inplace"
   ]
  },
  {
   "cell_type": "code",
   "execution_count": 13,
   "metadata": {
    "colab": {
     "base_uri": "https://localhost:8080/",
     "height": 86
    },
    "id": "CMJLZCywJSiu",
    "outputId": "c5a4b669-adce-4686-e2ad-3f3ac13f8ca8"
   },
   "outputs": [
    {
     "name": "stdout",
     "output_type": "stream",
     "text": [
      "b before =  [[0.83058354 0.58681359 0.64861697]\n",
      " [0.00385951 0.44864468 0.7399875 ]]\n",
      "b after =  [[1.83058354 1.58681359 1.64861697]\n",
      " [1.00385951 1.44864468 1.7399875 ]]\n"
     ]
    }
   ],
   "source": [
    "b = np.random.rand(2,3)\n",
    "bt = torch.from_numpy(b)\n",
    "\n",
    "#b and bt share memory, any change to bt will lead to change in b too. ****\n",
    "print(\"b before = \",b)\n",
    "bt.add_(1)\n",
    "print(\"b after = \",b)"
   ]
  },
  {
   "cell_type": "code",
   "execution_count": 14,
   "metadata": {},
   "outputs": [
    {
     "data": {
      "text/plain": [
       "tensor([[0.1339, 0.5535, 0.6276],\n",
       "        [0.9000, 1.6533, 1.6484]])"
      ]
     },
     "execution_count": 14,
     "metadata": {},
     "output_type": "execute_result"
    }
   ],
   "source": [
    "# -- Matrix Multiplication --\n",
    "x1 = torch.rand((2, 5))\n",
    "x2 = torch.rand((5, 3))\n",
    "\n",
    "x3 = torch.mm(x1, x2)  # Matrix multiplication of x1 and x2, out shape: 2x3\n",
    "x3"
   ]
  },
  {
   "cell_type": "code",
   "execution_count": 16,
   "metadata": {},
   "outputs": [
    {
     "data": {
      "text/plain": [
       "tensor([[0.1339, 0.5535, 0.6276],\n",
       "        [0.9000, 1.6533, 1.6484]])"
      ]
     },
     "execution_count": 16,
     "metadata": {},
     "output_type": "execute_result"
    }
   ],
   "source": [
    "x3 = x1.mm(x2)  # Similar as above\n",
    "x3"
   ]
  },
  {
   "cell_type": "code",
   "execution_count": 21,
   "metadata": {},
   "outputs": [
    {
     "data": {
      "text/plain": [
       "tensor([ 9, 16, 21])"
      ]
     },
     "execution_count": 21,
     "metadata": {},
     "output_type": "execute_result"
    }
   ],
   "source": [
    "x = torch.tensor([1, 2, 3])\n",
    "y = torch.tensor([9, 8, 7])\n",
    "\n",
    "# -- Element wise Multiplication --\n",
    "z = x * y  # z = [9, 16, 21] = [1*9, 2*8, 3*7]\n",
    "z"
   ]
  },
  {
   "cell_type": "code",
   "execution_count": 22,
   "metadata": {},
   "outputs": [
    {
     "data": {
      "text/plain": [
       "tensor(46)"
      ]
     },
     "execution_count": 22,
     "metadata": {},
     "output_type": "execute_result"
    }
   ],
   "source": [
    "# -- Dot product --\n",
    "z = torch.dot(x, y)  # Dot product, in this case z = 1*9 + 2*8 + 3*7\n",
    "z"
   ]
  },
  {
   "cell_type": "markdown",
   "metadata": {},
   "source": [
    "## Basic ANN"
   ]
  },
  {
   "cell_type": "code",
   "execution_count": 5,
   "metadata": {},
   "outputs": [],
   "source": [
    "import torch\n",
    "import torchvision.datasets as datasets  # Has standard datasets we can import in a nice way\n",
    "import torchvision.transforms as transforms  # Transformations we can perform on our dataset\n",
    "import torch.nn as nn\n",
    "import torchvision as tv\n",
    "from torch.utils.data import DataLoader, Dataset"
   ]
  },
  {
   "cell_type": "code",
   "execution_count": 2,
   "metadata": {},
   "outputs": [],
   "source": [
    "# Set device\n",
    "# device = torch.device(\"cuda\" if torch.cuda.is_available() else \"cpu\")\n",
    "device = \"cpu\"\n",
    "# Hyperparameters\n",
    "input_size = 784\n",
    "num_classes = 10\n",
    "learning_rate = 0.001\n",
    "batch_size = 64\n",
    "num_epochs = 5"
   ]
  },
  {
   "cell_type": "code",
   "execution_count": 3,
   "metadata": {},
   "outputs": [
    {
     "data": {
      "text/plain": [
       "torch.Size([60000, 28, 28])"
      ]
     },
     "execution_count": 3,
     "metadata": {},
     "output_type": "execute_result"
    }
   ],
   "source": [
    "# we will use Mnist dataset which is already available in pytorch\n",
    "# define transformations on Images\n",
    "transform = transforms.Compose([transforms.ToTensor()])\n",
    "\n",
    "train_ds = datasets.MNIST( root=\"data/\",train=True,download = True,transform= transform)\n",
    "test_ds = datasets.MNIST( root=\"data/\",train=False,download = True,transform= transform)\n",
    "train_ds.data.shape"
   ]
  },
  {
   "cell_type": "code",
   "execution_count": 4,
   "metadata": {
    "colab": {
     "base_uri": "https://localhost:8080/",
     "height": 34
    },
    "id": "b6i43tFk62LL",
    "outputId": "09d8c6a0-6e16-491c-e923-eb65f563694e"
   },
   "outputs": [
    {
     "data": {
      "text/plain": [
       "[tensor([[[[0., 0., 0.,  ..., 0., 0., 0.],\n",
       "           [0., 0., 0.,  ..., 0., 0., 0.],\n",
       "           [0., 0., 0.,  ..., 0., 0., 0.],\n",
       "           ...,\n",
       "           [0., 0., 0.,  ..., 0., 0., 0.],\n",
       "           [0., 0., 0.,  ..., 0., 0., 0.],\n",
       "           [0., 0., 0.,  ..., 0., 0., 0.]]],\n",
       " \n",
       " \n",
       "         [[[0., 0., 0.,  ..., 0., 0., 0.],\n",
       "           [0., 0., 0.,  ..., 0., 0., 0.],\n",
       "           [0., 0., 0.,  ..., 0., 0., 0.],\n",
       "           ...,\n",
       "           [0., 0., 0.,  ..., 0., 0., 0.],\n",
       "           [0., 0., 0.,  ..., 0., 0., 0.],\n",
       "           [0., 0., 0.,  ..., 0., 0., 0.]]],\n",
       " \n",
       " \n",
       "         [[[0., 0., 0.,  ..., 0., 0., 0.],\n",
       "           [0., 0., 0.,  ..., 0., 0., 0.],\n",
       "           [0., 0., 0.,  ..., 0., 0., 0.],\n",
       "           ...,\n",
       "           [0., 0., 0.,  ..., 0., 0., 0.],\n",
       "           [0., 0., 0.,  ..., 0., 0., 0.],\n",
       "           [0., 0., 0.,  ..., 0., 0., 0.]]],\n",
       " \n",
       " \n",
       "         ...,\n",
       " \n",
       " \n",
       "         [[[0., 0., 0.,  ..., 0., 0., 0.],\n",
       "           [0., 0., 0.,  ..., 0., 0., 0.],\n",
       "           [0., 0., 0.,  ..., 0., 0., 0.],\n",
       "           ...,\n",
       "           [0., 0., 0.,  ..., 0., 0., 0.],\n",
       "           [0., 0., 0.,  ..., 0., 0., 0.],\n",
       "           [0., 0., 0.,  ..., 0., 0., 0.]]],\n",
       " \n",
       " \n",
       "         [[[0., 0., 0.,  ..., 0., 0., 0.],\n",
       "           [0., 0., 0.,  ..., 0., 0., 0.],\n",
       "           [0., 0., 0.,  ..., 0., 0., 0.],\n",
       "           ...,\n",
       "           [0., 0., 0.,  ..., 0., 0., 0.],\n",
       "           [0., 0., 0.,  ..., 0., 0., 0.],\n",
       "           [0., 0., 0.,  ..., 0., 0., 0.]]],\n",
       " \n",
       " \n",
       "         [[[0., 0., 0.,  ..., 0., 0., 0.],\n",
       "           [0., 0., 0.,  ..., 0., 0., 0.],\n",
       "           [0., 0., 0.,  ..., 0., 0., 0.],\n",
       "           ...,\n",
       "           [0., 0., 0.,  ..., 0., 0., 0.],\n",
       "           [0., 0., 0.,  ..., 0., 0., 0.],\n",
       "           [0., 0., 0.,  ..., 0., 0., 0.]]]]),\n",
       " tensor([1, 5, 1, 4, 0, 3, 7, 7, 8, 1, 8, 1, 3, 0, 7, 3, 4, 3, 4, 4, 6, 4, 2, 8,\n",
       "         4, 9, 3, 2, 1, 0, 5, 5, 1, 5, 5, 9, 8, 4, 6, 6, 8, 6, 6, 5, 3, 6, 7, 7,\n",
       "         0, 3, 7, 9, 6, 3, 4, 9, 3, 5, 3, 3, 0, 9, 7, 7])]"
      ]
     },
     "execution_count": 4,
     "metadata": {},
     "output_type": "execute_result"
    }
   ],
   "source": [
    "train_loader = DataLoader(train_ds, batch_size=batch_size, shuffle=True)\n",
    "test_loader = DataLoader(test_ds, batch_size=batch_size, shuffle=True)\n",
    "next(iter(train_loader))"
   ]
  },
  {
   "cell_type": "code",
   "execution_count": 5,
   "metadata": {},
   "outputs": [],
   "source": [
    "# (input image, targets)"
   ]
  },
  {
   "cell_type": "code",
   "execution_count": 6,
   "metadata": {
    "colab": {
     "base_uri": "https://localhost:8080/",
     "height": 121
    },
    "id": "jgxywvFC62RE",
    "outputId": "72950096-7a44-4add-be0d-a46ed89a5513"
   },
   "outputs": [
    {
     "data": {
      "text/plain": [
       "ANN(\n",
       "  (fc1): Linear(in_features=784, out_features=128, bias=True)\n",
       "  (fc2): Linear(in_features=128, out_features=64, bias=True)\n",
       "  (fc3): Linear(in_features=64, out_features=32, bias=True)\n",
       "  (fc4): Linear(in_features=32, out_features=10, bias=True)\n",
       ")"
      ]
     },
     "execution_count": 6,
     "metadata": {},
     "output_type": "execute_result"
    }
   ],
   "source": [
    "import torch.nn.functional as F\n",
    "\n",
    "class ANN(nn.Module):\n",
    "    def __init__(self,input_size, num_classes):\n",
    "        super().__init__()\n",
    "        self.fc1 = nn.Linear(input_size,128)\n",
    "        self.fc2 = nn.Linear(128,64)\n",
    "        self.fc3 = nn.Linear(64,32)\n",
    "        self.fc4 = nn.Linear(32, num_classes)\n",
    "\n",
    "    def forward(self, x):\n",
    "        x = F.relu(self.fc1(x))\n",
    "#         print(x.shape)\n",
    "        x = F.relu(self.fc2(x))\n",
    "#         print(x.shape)\n",
    "        x = F.relu(self.fc3(x))\n",
    "#         print(x.shape)\n",
    "        x = self.fc4(x)\n",
    "        out = F.softmax(x,dim=1) # dim = 1 because s is (64,10) and we want to take softmax over 10 which are vectors.\n",
    "        \n",
    "        return out\n",
    "\n",
    "  \n",
    "model = ANN(input_size=input_size, num_classes=num_classes).to(device)\n",
    "model"
   ]
  },
  {
   "cell_type": "code",
   "execution_count": 7,
   "metadata": {
    "colab": {
     "base_uri": "https://localhost:8080/",
     "height": 347
    },
    "id": "gyTJYIYE_eMk",
    "outputId": "c70bf801-e0a8-4884-c8dd-41c068ece71b"
   },
   "outputs": [
    {
     "name": "stdout",
     "output_type": "stream",
     "text": [
      "Parameter containing:\n",
      "tensor([[-0.0330,  0.0226, -0.0430,  ...,  0.0633,  0.0185, -0.0303],\n",
      "        [ 0.0124,  0.0480, -0.0161,  ...,  0.0804, -0.0016,  0.0276],\n",
      "        [ 0.0490, -0.0535, -0.0354,  ...,  0.0407,  0.0349,  0.0358],\n",
      "        ...,\n",
      "        [-0.0480, -0.0480, -0.0105,  ...,  0.0438,  0.0338,  0.0123],\n",
      "        [-0.0076, -0.0445,  0.0682,  ..., -0.0468,  0.0225,  0.0880],\n",
      "        [ 0.0368,  0.0655,  0.0045,  ...,  0.0242, -0.0707,  0.0334]],\n",
      "       requires_grad=True)\n",
      "Parameter containing:\n",
      "tensor([ 0.0866,  0.0303,  0.0410, -0.0585,  0.0266, -0.0801, -0.0275, -0.0742,\n",
      "        -0.0065,  0.0402, -0.0150, -0.0283,  0.0569, -0.0259,  0.0640, -0.0877,\n",
      "         0.0739, -0.0327,  0.0378, -0.0632, -0.0836, -0.0822, -0.0607, -0.0723,\n",
      "         0.0393, -0.0377,  0.0524,  0.0635,  0.0086,  0.0318, -0.0319,  0.0583,\n",
      "        -0.0227, -0.0612, -0.0624,  0.0344, -0.0289,  0.0876,  0.0483, -0.0677,\n",
      "        -0.0622,  0.0290, -0.0061, -0.0816, -0.0759, -0.0394,  0.0845, -0.0495,\n",
      "         0.0547,  0.0275,  0.0489,  0.0506, -0.0097, -0.0340,  0.0838,  0.0009,\n",
      "        -0.0658, -0.0251,  0.0433, -0.0128, -0.0582, -0.0361,  0.0747, -0.0585],\n",
      "       requires_grad=True)\n"
     ]
    }
   ],
   "source": [
    "# weights are randomply initialized in torch\n",
    "print(model.fc2.weight)\n",
    "print(model.fc2.bias)"
   ]
  },
  {
   "cell_type": "code",
   "execution_count": 8,
   "metadata": {},
   "outputs": [
    {
     "name": "stdout",
     "output_type": "stream",
     "text": [
      "batch =  torch.Size([64, 1, 28, 28])\n"
     ]
    },
    {
     "data": {
      "text/plain": [
       "tensor([[0.1081, 0.0949, 0.1011, 0.0954, 0.1038, 0.0957, 0.1150, 0.1074, 0.0882,\n",
       "         0.0904],\n",
       "        [0.1072, 0.0967, 0.0997, 0.0961, 0.1042, 0.0954, 0.1148, 0.1075, 0.0882,\n",
       "         0.0903],\n",
       "        [0.1089, 0.0969, 0.1005, 0.0952, 0.1034, 0.0966, 0.1123, 0.1085, 0.0885,\n",
       "         0.0892],\n",
       "        [0.1084, 0.0954, 0.1009, 0.0956, 0.1048, 0.0955, 0.1138, 0.1070, 0.0879,\n",
       "         0.0907],\n",
       "        [0.1088, 0.0952, 0.1003, 0.0960, 0.1031, 0.0962, 0.1131, 0.1080, 0.0890,\n",
       "         0.0903],\n",
       "        [0.1079, 0.0975, 0.0981, 0.0974, 0.1043, 0.0948, 0.1143, 0.1060, 0.0885,\n",
       "         0.0910],\n",
       "        [0.1082, 0.0975, 0.0981, 0.0972, 0.1029, 0.0950, 0.1130, 0.1080, 0.0897,\n",
       "         0.0905],\n",
       "        [0.1086, 0.0947, 0.1020, 0.0950, 0.1036, 0.0956, 0.1145, 0.1075, 0.0884,\n",
       "         0.0901],\n",
       "        [0.1073, 0.0965, 0.0997, 0.0970, 0.1047, 0.0953, 0.1130, 0.1059, 0.0889,\n",
       "         0.0916],\n",
       "        [0.1084, 0.0953, 0.1011, 0.0962, 0.1044, 0.0956, 0.1143, 0.1063, 0.0878,\n",
       "         0.0907],\n",
       "        [0.1078, 0.0947, 0.1016, 0.0950, 0.1033, 0.0960, 0.1153, 0.1084, 0.0881,\n",
       "         0.0898],\n",
       "        [0.1083, 0.0954, 0.1003, 0.0958, 0.1044, 0.0949, 0.1150, 0.1069, 0.0883,\n",
       "         0.0906],\n",
       "        [0.1079, 0.0958, 0.0998, 0.0967, 0.1056, 0.0954, 0.1133, 0.1062, 0.0882,\n",
       "         0.0911],\n",
       "        [0.1078, 0.0979, 0.0990, 0.0960, 0.1042, 0.0955, 0.1131, 0.1075, 0.0885,\n",
       "         0.0905],\n",
       "        [0.1074, 0.0961, 0.0991, 0.0963, 0.1032, 0.0956, 0.1151, 0.1094, 0.0888,\n",
       "         0.0890],\n",
       "        [0.1081, 0.0957, 0.0999, 0.0958, 0.1045, 0.0956, 0.1148, 0.1074, 0.0880,\n",
       "         0.0902],\n",
       "        [0.1088, 0.0954, 0.1009, 0.0948, 0.1041, 0.0956, 0.1153, 0.1076, 0.0879,\n",
       "         0.0895],\n",
       "        [0.1070, 0.0967, 0.0996, 0.0954, 0.1056, 0.0951, 0.1144, 0.1072, 0.0881,\n",
       "         0.0908],\n",
       "        [0.1073, 0.0955, 0.0995, 0.0966, 0.1023, 0.0951, 0.1155, 0.1078, 0.0895,\n",
       "         0.0909],\n",
       "        [0.1082, 0.0975, 0.0999, 0.0959, 0.1041, 0.0957, 0.1129, 0.1072, 0.0885,\n",
       "         0.0902],\n",
       "        [0.1084, 0.0941, 0.1001, 0.0960, 0.1042, 0.0948, 0.1154, 0.1078, 0.0888,\n",
       "         0.0904],\n",
       "        [0.1084, 0.0951, 0.1007, 0.0961, 0.1025, 0.0960, 0.1140, 0.1081, 0.0888,\n",
       "         0.0903],\n",
       "        [0.1076, 0.0956, 0.1003, 0.0956, 0.1051, 0.0953, 0.1149, 0.1069, 0.0881,\n",
       "         0.0905],\n",
       "        [0.1081, 0.0974, 0.1001, 0.0961, 0.1037, 0.0974, 0.1122, 0.1076, 0.0880,\n",
       "         0.0894],\n",
       "        [0.1083, 0.0949, 0.1008, 0.0954, 0.1044, 0.0958, 0.1144, 0.1077, 0.0877,\n",
       "         0.0907],\n",
       "        [0.1084, 0.0946, 0.1011, 0.0964, 0.1046, 0.0953, 0.1146, 0.1062, 0.0880,\n",
       "         0.0907],\n",
       "        [0.1073, 0.0963, 0.1002, 0.0959, 0.1044, 0.0956, 0.1142, 0.1069, 0.0880,\n",
       "         0.0912],\n",
       "        [0.1083, 0.0964, 0.0996, 0.0958, 0.1043, 0.0951, 0.1149, 0.1072, 0.0881,\n",
       "         0.0905],\n",
       "        [0.1079, 0.0953, 0.1004, 0.0965, 0.1047, 0.0949, 0.1147, 0.1060, 0.0890,\n",
       "         0.0907],\n",
       "        [0.1070, 0.0971, 0.0993, 0.0961, 0.1045, 0.0956, 0.1137, 0.1074, 0.0885,\n",
       "         0.0907],\n",
       "        [0.1079, 0.0950, 0.1002, 0.0969, 0.1057, 0.0944, 0.1150, 0.1049, 0.0883,\n",
       "         0.0917],\n",
       "        [0.1080, 0.0979, 0.0984, 0.0964, 0.1042, 0.0951, 0.1133, 0.1071, 0.0887,\n",
       "         0.0908],\n",
       "        [0.1084, 0.0959, 0.1005, 0.0951, 0.1051, 0.0954, 0.1145, 0.1077, 0.0880,\n",
       "         0.0896],\n",
       "        [0.1088, 0.0959, 0.1000, 0.0959, 0.1044, 0.0951, 0.1138, 0.1069, 0.0886,\n",
       "         0.0908],\n",
       "        [0.1082, 0.0964, 0.1002, 0.0958, 0.1035, 0.0960, 0.1139, 0.1077, 0.0885,\n",
       "         0.0898],\n",
       "        [0.1089, 0.0951, 0.0996, 0.0961, 0.1037, 0.0954, 0.1146, 0.1084, 0.0883,\n",
       "         0.0899],\n",
       "        [0.1075, 0.0955, 0.0992, 0.0966, 0.1056, 0.0941, 0.1155, 0.1059, 0.0885,\n",
       "         0.0916],\n",
       "        [0.1078, 0.0945, 0.1010, 0.0965, 0.1031, 0.0957, 0.1154, 0.1072, 0.0888,\n",
       "         0.0901],\n",
       "        [0.1081, 0.0957, 0.1011, 0.0950, 0.1035, 0.0959, 0.1146, 0.1082, 0.0883,\n",
       "         0.0895],\n",
       "        [0.1082, 0.0963, 0.1007, 0.0952, 0.1044, 0.0960, 0.1138, 0.1080, 0.0872,\n",
       "         0.0902],\n",
       "        [0.1069, 0.0955, 0.0996, 0.0959, 0.1047, 0.0955, 0.1153, 0.1083, 0.0879,\n",
       "         0.0905],\n",
       "        [0.1080, 0.0958, 0.1003, 0.0961, 0.1034, 0.0963, 0.1142, 0.1080, 0.0885,\n",
       "         0.0896],\n",
       "        [0.1085, 0.0954, 0.1001, 0.0956, 0.1037, 0.0956, 0.1146, 0.1086, 0.0885,\n",
       "         0.0896],\n",
       "        [0.1072, 0.0960, 0.0994, 0.0961, 0.1039, 0.0955, 0.1149, 0.1082, 0.0885,\n",
       "         0.0903],\n",
       "        [0.1075, 0.0966, 0.0999, 0.0965, 0.1042, 0.0967, 0.1131, 0.1071, 0.0881,\n",
       "         0.0903],\n",
       "        [0.1070, 0.0959, 0.0997, 0.0967, 0.1049, 0.0951, 0.1137, 0.1064, 0.0886,\n",
       "         0.0920],\n",
       "        [0.1088, 0.0959, 0.1008, 0.0957, 0.1029, 0.0962, 0.1134, 0.1086, 0.0884,\n",
       "         0.0893],\n",
       "        [0.1086, 0.0960, 0.1001, 0.0955, 0.1042, 0.0963, 0.1133, 0.1085, 0.0876,\n",
       "         0.0900],\n",
       "        [0.1086, 0.0958, 0.1002, 0.0965, 0.1027, 0.0965, 0.1139, 0.1078, 0.0885,\n",
       "         0.0894],\n",
       "        [0.1092, 0.0958, 0.1005, 0.0959, 0.1029, 0.0967, 0.1126, 0.1081, 0.0886,\n",
       "         0.0897],\n",
       "        [0.1076, 0.0942, 0.1017, 0.0954, 0.1037, 0.0959, 0.1151, 0.1078, 0.0882,\n",
       "         0.0904],\n",
       "        [0.1087, 0.0954, 0.1005, 0.0957, 0.1051, 0.0951, 0.1144, 0.1064, 0.0881,\n",
       "         0.0907],\n",
       "        [0.1089, 0.0946, 0.1009, 0.0956, 0.1038, 0.0952, 0.1155, 0.1072, 0.0883,\n",
       "         0.0900],\n",
       "        [0.1085, 0.0948, 0.1016, 0.0953, 0.1041, 0.0954, 0.1145, 0.1075, 0.0879,\n",
       "         0.0903],\n",
       "        [0.1086, 0.0946, 0.1003, 0.0958, 0.1041, 0.0960, 0.1139, 0.1086, 0.0881,\n",
       "         0.0900],\n",
       "        [0.1076, 0.0964, 0.0998, 0.0967, 0.1040, 0.0956, 0.1132, 0.1070, 0.0889,\n",
       "         0.0907],\n",
       "        [0.1087, 0.0949, 0.1004, 0.0958, 0.1036, 0.0956, 0.1154, 0.1078, 0.0881,\n",
       "         0.0897],\n",
       "        [0.1084, 0.0964, 0.0996, 0.0961, 0.1025, 0.0960, 0.1144, 0.1084, 0.0886,\n",
       "         0.0897],\n",
       "        [0.1086, 0.0968, 0.1005, 0.0953, 0.1041, 0.0956, 0.1135, 0.1076, 0.0883,\n",
       "         0.0898],\n",
       "        [0.1075, 0.0966, 0.0990, 0.0976, 0.1042, 0.0960, 0.1135, 0.1061, 0.0887,\n",
       "         0.0908],\n",
       "        [0.1087, 0.0964, 0.0999, 0.0951, 0.1042, 0.0959, 0.1133, 0.1085, 0.0878,\n",
       "         0.0902],\n",
       "        [0.1083, 0.0950, 0.1012, 0.0951, 0.1043, 0.0957, 0.1145, 0.1077, 0.0878,\n",
       "         0.0903],\n",
       "        [0.1085, 0.0949, 0.1005, 0.0955, 0.1045, 0.0952, 0.1149, 0.1073, 0.0882,\n",
       "         0.0906],\n",
       "        [0.1076, 0.0960, 0.0985, 0.0980, 0.1021, 0.0955, 0.1141, 0.1082, 0.0899,\n",
       "         0.0902]], grad_fn=<SoftmaxBackward>)"
      ]
     },
     "execution_count": 8,
     "metadata": {},
     "output_type": "execute_result"
    }
   ],
   "source": [
    "oneBatch = next(iter(train_loader))[0]\n",
    "print(\"batch = \",oneBatch.shape)\n",
    "model(oneBatch.reshape(64, -1))"
   ]
  },
  {
   "cell_type": "code",
   "execution_count": 9,
   "metadata": {
    "colab": {
     "base_uri": "https://localhost:8080/",
     "height": 191
    },
    "id": "YN5KIFqu_eSL",
    "outputId": "0c9acb52-8907-4c04-ec1d-a350700a5db9"
   },
   "outputs": [
    {
     "name": "stdout",
     "output_type": "stream",
     "text": [
      "Sequential(\n",
      "  (0): Linear(in_features=784, out_features=128, bias=True)\n",
      "  (1): ReLU()\n",
      "  (2): Linear(in_features=128, out_features=64, bias=True)\n",
      "  (3): ReLU()\n",
      "  (4): Linear(in_features=64, out_features=32, bias=True)\n",
      "  (5): ReLU()\n",
      "  (6): Linear(in_features=32, out_features=10, bias=True)\n",
      "  (7): Softmax(dim=1)\n",
      ")\n"
     ]
    }
   ],
   "source": [
    "# Sequential way \n",
    "in_s = 784\n",
    "h = [128,64,32]\n",
    "out = 10\n",
    "\n",
    "model_s = nn.Sequential(nn.Linear(in_s,h[0]),\n",
    "                        nn.ReLU(),\n",
    "                        nn.Linear(h[0],h[1]),\n",
    "                        nn.ReLU(),\n",
    "                        nn.Linear(h[1],h[2]),\n",
    "                        nn.ReLU(),\n",
    "                        nn.Linear(h[2],out),\n",
    "                        nn.Softmax(dim=1),\n",
    "                        )\n",
    "\n",
    "print(model_s)"
   ]
  },
  {
   "cell_type": "code",
   "execution_count": 15,
   "metadata": {},
   "outputs": [
    {
     "name": "stdout",
     "output_type": "stream",
     "text": [
      "torch.Size([32, 1, 28, 28])\n"
     ]
    }
   ],
   "source": [
    "for idx, (inputImg, target) in enumerate(train_loader):\n",
    "    if inputImg.shape != (64,1,28,28):\n",
    "        print(inputImg.shape)"
   ]
  },
  {
   "cell_type": "code",
   "execution_count": 10,
   "metadata": {},
   "outputs": [],
   "source": [
    "# Loss and optimizer\n",
    "criterion = nn.CrossEntropyLoss()\n",
    "\n",
    "optimizer = torch.optim.Adam(model.parameters(), lr=learning_rate)"
   ]
  },
  {
   "cell_type": "code",
   "execution_count": 16,
   "metadata": {
    "id": "iJB1FV2w_eQp"
   },
   "outputs": [],
   "source": [
    "def train(epochs):\n",
    "    for epoch in range(epochs):\n",
    "        for idx, (inputImg, target) in enumerate(train_loader):\n",
    "            \n",
    "            inputImg = inputImg.to(device)\n",
    "            target = target.to(device)\n",
    "            \n",
    "            # reshape as the data will be in form (64,1,28,28) and we want (64,784)\n",
    "            inputImg = inputImg.reshape(inputImg.shape[0],-1)\n",
    "            # forward\n",
    "            scores = model(inputImg)\n",
    "            \n",
    "            #get loss\n",
    "            loss = criterion(scores, target)\n",
    "\n",
    "            # backward\n",
    "            optimizer.zero_grad()\n",
    "            loss.backward()\n",
    "\n",
    "            # gradient descent or adam step\n",
    "            optimizer.step()\n",
    "\n",
    "train(2)"
   ]
  },
  {
   "cell_type": "code",
   "execution_count": 17,
   "metadata": {},
   "outputs": [
    {
     "name": "stdout",
     "output_type": "stream",
     "text": [
      "Checking accuracy on test data\n",
      "Got 9559 / 10000 with accuracy 95.59\n"
     ]
    }
   ],
   "source": [
    "def check_accuracy(loader, model):\n",
    "    if loader.dataset.train:\n",
    "        print(\"Checking accuracy on training data\")\n",
    "    else:\n",
    "        print(\"Checking accuracy on test data\")\n",
    "\n",
    "    num_correct = 0\n",
    "    num_samples = 0\n",
    "    model.eval()\n",
    "\n",
    "    with torch.no_grad():\n",
    "        for x, y in loader:\n",
    "            x = x.to(device=device)\n",
    "            y = y.to(device=device)\n",
    "            x = x.reshape(x.shape[0], -1)\n",
    "\n",
    "            scores = model(x)\n",
    "            _, predictions = scores.max(1)\n",
    "            num_correct += (predictions == y).sum()\n",
    "            num_samples += predictions.size(0)\n",
    "\n",
    "        print(\n",
    "            f\"Got {num_correct} / {num_samples} with accuracy {float(num_correct)/float(num_samples)*100:.2f}\"\n",
    "        )\n",
    "\n",
    "    model.train()\n",
    "    \n",
    "check_accuracy(test_loader, model)"
   ]
  },
  {
   "cell_type": "markdown",
   "metadata": {
    "id": "en-o4kmYJbkg"
   },
   "source": [
    "## Let's build a CNN"
   ]
  },
  {
   "cell_type": "code",
   "execution_count": 29,
   "metadata": {
    "id": "AHYszuURR30t"
   },
   "outputs": [
    {
     "data": {
      "text/plain": [
       "CustomCNN(\n",
       "  (conv1): Conv2d(1, 8, kernel_size=(3, 3), stride=(1, 1), padding=(1, 1))\n",
       "  (pool): MaxPool2d(kernel_size=(2, 2), stride=(2, 2), padding=0, dilation=1, ceil_mode=False)\n",
       "  (conv2): Conv2d(8, 16, kernel_size=(3, 3), stride=(1, 1))\n",
       "  (fc1): Linear(in_features=576, out_features=10, bias=True)\n",
       ")"
      ]
     },
     "execution_count": 29,
     "metadata": {},
     "output_type": "execute_result"
    }
   ],
   "source": [
    "class CustomCNN(nn.Module):\n",
    "    def __init__(self, in_channels=1, num_classes=10):\n",
    "        super(CustomCNN, self).__init__()\n",
    "        self.conv1 = nn.Conv2d(in_channels=1, out_channels=8, kernel_size=(3, 3), stride=(1, 1),padding=(1, 1))\n",
    "        self.pool = nn.MaxPool2d(kernel_size=(2, 2), stride=(2, 2))\n",
    "        self.conv2 = nn.Conv2d(8, 16, kernel_size=3)\n",
    "        self.fc1 = nn.Linear(16 * 6 * 6, num_classes)\n",
    "        \n",
    "    def forward(self,x):\n",
    "        x = F.relu(self.conv1(x))\n",
    "        x = self.pool(x)\n",
    "#         print(x.shape)\n",
    "        x = F.relu(self.conv2(x))\n",
    "        x = self.pool(x)\n",
    "#         print(x.shape)\n",
    "        x = x.reshape(x.shape[0], -1)\n",
    "#         print(x.shape)\n",
    "        out = self.fc1(x)\n",
    "#         print(x.shape)\n",
    "        return out\n",
    "    \n",
    "model = CustomCNN().to(device)\n",
    "model"
   ]
  },
  {
   "cell_type": "code",
   "execution_count": 30,
   "metadata": {},
   "outputs": [
    {
     "data": {
      "text/plain": [
       "torch.Size([64, 1, 28, 28])"
      ]
     },
     "execution_count": 30,
     "metadata": {},
     "output_type": "execute_result"
    }
   ],
   "source": [
    "oneBatch.shape"
   ]
  },
  {
   "cell_type": "code",
   "execution_count": 31,
   "metadata": {},
   "outputs": [
    {
     "data": {
      "text/plain": [
       "tensor([[-1.2303e-02, -4.0456e-02,  2.6771e-02, -4.8776e-02, -5.6176e-02,\n",
       "          8.0413e-02, -3.2589e-02,  4.2463e-02,  4.6010e-02,  5.2764e-03],\n",
       "        [-8.3632e-02, -4.5662e-02,  3.2310e-02,  1.9257e-02, -4.1453e-02,\n",
       "          1.0438e-01, -3.9681e-02,  3.9976e-02,  1.4651e-02,  9.0973e-03],\n",
       "        [-6.2059e-02,  7.7991e-03,  5.5779e-02, -3.8301e-02, -1.5751e-02,\n",
       "          9.5194e-02, -7.8704e-02,  2.0113e-02,  5.9643e-02, -1.7934e-02],\n",
       "        [-3.4122e-02, -2.2698e-02,  8.7814e-02,  1.2625e-03, -9.2570e-02,\n",
       "          7.9959e-02, -1.2639e-01,  2.7606e-02,  2.9502e-02, -4.2889e-02],\n",
       "        [-1.1404e-02, -4.1271e-02,  4.6669e-02, -8.2203e-03, -4.3626e-02,\n",
       "          9.0196e-02, -1.0468e-01,  2.6837e-03,  3.9210e-02, -2.0851e-03],\n",
       "        [-4.2037e-02,  4.5405e-03,  3.2171e-02, -2.1225e-02,  3.4474e-03,\n",
       "          1.0789e-01, -5.8936e-02,  6.0544e-02,  1.9023e-02,  7.6452e-03],\n",
       "        [-3.4143e-02, -2.4833e-02,  8.9617e-02,  4.6181e-03, -3.8564e-03,\n",
       "          8.1897e-02, -1.0757e-01,  8.2172e-02,  4.6298e-02,  3.1614e-03],\n",
       "        [-3.5445e-02, -3.2893e-02,  6.6557e-02, -1.0502e-02, -8.2564e-02,\n",
       "          9.7363e-02, -6.1140e-02,  5.5675e-02,  1.8153e-02,  1.9554e-02],\n",
       "        [ 8.6174e-03,  1.5109e-02,  2.0182e-02, -4.1633e-02, -2.2155e-02,\n",
       "          5.8505e-02, -7.7067e-02,  6.0924e-02,  1.6710e-02,  6.5913e-03],\n",
       "        [-6.2614e-02,  7.7755e-03,  6.4832e-02,  2.8347e-03, -4.6937e-02,\n",
       "          1.0022e-01, -8.3734e-02,  6.0028e-02,  9.8280e-04,  1.2923e-02],\n",
       "        [-5.0419e-02,  1.8923e-02,  4.7777e-02, -4.2122e-03, -6.5437e-02,\n",
       "          1.0469e-01, -2.9197e-02,  4.0027e-02, -1.3597e-03,  1.1825e-02],\n",
       "        [-3.7084e-02,  1.1153e-02,  3.5468e-02, -4.1512e-02, -3.1161e-02,\n",
       "          9.4628e-02, -4.2257e-02,  5.1548e-02,  4.0967e-02, -4.3205e-03],\n",
       "        [-6.6765e-02,  1.4465e-02,  6.3516e-02, -1.7160e-02, -2.7837e-02,\n",
       "          1.1012e-01, -6.5620e-02,  6.1582e-02,  2.4793e-02, -2.8605e-02],\n",
       "        [-5.6015e-02,  3.2303e-02,  6.1689e-02,  1.7146e-02, -1.7102e-02,\n",
       "          7.9396e-02, -8.0675e-02,  7.5022e-02,  3.9701e-02,  2.4353e-02],\n",
       "        [-1.2383e-02, -1.4104e-02,  5.4066e-02, -1.2677e-04, -3.6583e-02,\n",
       "          8.2502e-02, -7.8431e-02,  9.9240e-02,  5.5352e-02, -1.4461e-02],\n",
       "        [-1.4167e-03,  1.4582e-02,  6.5214e-02, -4.0844e-02, -9.0133e-02,\n",
       "          8.7224e-02, -7.1354e-02,  7.6023e-02,  2.6363e-02,  1.7437e-02],\n",
       "        [-5.8540e-02,  6.8523e-03,  5.0655e-02, -6.5238e-02, -6.1904e-02,\n",
       "          8.0000e-02, -9.1586e-02,  3.5858e-02,  1.6350e-02,  4.1004e-02],\n",
       "        [-4.0606e-02, -2.6180e-02,  4.3321e-02,  8.5928e-03, -7.3399e-02,\n",
       "          9.9174e-02, -7.8713e-02,  5.0038e-02,  3.7386e-02,  1.2985e-02],\n",
       "        [-2.2572e-02, -7.9218e-02,  4.2203e-02, -2.0176e-02, -6.4997e-02,\n",
       "          8.7163e-02, -8.1643e-02,  4.9740e-02,  3.5143e-02, -1.7796e-02],\n",
       "        [-1.4606e-02,  8.9374e-03,  4.1395e-02, -1.2663e-02, -1.1346e-02,\n",
       "          1.0118e-01, -7.2757e-02,  4.3583e-02,  4.2354e-02,  2.4658e-03],\n",
       "        [-1.1651e-02, -3.5527e-02,  5.5100e-02, -3.0253e-02, -1.8173e-02,\n",
       "          1.1125e-01, -7.6863e-02,  4.8711e-02,  7.5923e-03,  1.6989e-02],\n",
       "        [-2.1904e-02, -2.0844e-02,  6.4398e-02, -7.4311e-03, -5.7442e-02,\n",
       "          1.0430e-01, -8.9145e-02,  3.1243e-02,  3.4687e-02,  6.5795e-02],\n",
       "        [-5.2160e-02, -1.3292e-02,  3.8798e-02,  3.3713e-03, -6.5857e-02,\n",
       "          9.6493e-02, -1.2495e-02,  4.7918e-02,  1.5464e-02,  1.4725e-02],\n",
       "        [-6.6131e-02, -1.5053e-02,  3.3163e-02, -2.7935e-02, -3.4714e-02,\n",
       "          6.7541e-02, -8.6063e-02,  2.4582e-02,  3.8491e-02,  3.1350e-03],\n",
       "        [ 1.3550e-02, -2.2485e-04,  5.9085e-02, -1.5177e-02, -5.6791e-02,\n",
       "          8.5212e-02, -6.5366e-02,  6.5455e-02,  4.5336e-02,  2.6855e-04],\n",
       "        [-5.8058e-02,  9.7559e-03,  8.4172e-02, -1.4407e-02, -4.7743e-02,\n",
       "          5.9452e-02, -9.3375e-02,  6.2198e-02,  2.0391e-02, -3.7725e-02],\n",
       "        [-2.8968e-02, -2.5889e-03,  7.4113e-02, -7.0971e-02, -3.6657e-02,\n",
       "          1.0096e-01, -7.5225e-02,  5.7469e-02,  4.4394e-02, -3.8763e-03],\n",
       "        [ 2.6434e-03, -9.0240e-03,  2.3109e-02, -7.0406e-02, -1.8334e-02,\n",
       "          1.0039e-01, -8.5192e-02,  5.6133e-02,  4.9079e-02,  2.2006e-03],\n",
       "        [-6.7016e-03,  5.4767e-03,  5.9386e-02, -3.7637e-02, -5.5898e-02,\n",
       "          8.4079e-02, -5.9849e-02,  5.7389e-02,  2.9576e-02,  1.9924e-03],\n",
       "        [-2.8070e-02,  3.7591e-02,  6.9634e-02,  4.0269e-02, -2.3014e-02,\n",
       "          8.8408e-02, -7.9823e-02,  6.0189e-02,  2.3251e-02, -9.4716e-03],\n",
       "        [-2.6414e-02,  8.8862e-03,  4.2399e-02,  1.6350e-02, -7.0030e-02,\n",
       "          6.7410e-02, -4.3235e-02,  1.0279e-01,  6.6274e-02,  5.9080e-03],\n",
       "        [ 1.6735e-03, -2.3231e-02,  9.5958e-02, -3.9856e-03, -4.4346e-02,\n",
       "          8.9112e-02, -7.6510e-02,  6.9699e-02,  2.7747e-02,  7.5319e-03],\n",
       "        [-7.1525e-02,  3.4939e-02,  8.0327e-02,  5.6262e-03, -4.0408e-02,\n",
       "          1.1092e-01, -7.5624e-02,  6.6234e-02,  6.0732e-03,  1.3382e-02],\n",
       "        [-8.1415e-02,  2.4838e-02,  6.6421e-02, -5.2975e-02, -2.0209e-02,\n",
       "          7.2180e-02, -7.2939e-02,  1.3013e-02,  4.3122e-02,  7.4279e-03],\n",
       "        [-3.6891e-02,  1.4784e-02,  1.4564e-02, -4.0116e-02, -1.1509e-02,\n",
       "          9.4191e-02, -7.5173e-02,  7.9434e-02,  6.5295e-02,  1.8435e-02],\n",
       "        [-2.4009e-02, -3.4531e-02,  4.1120e-02, -2.9958e-02, -2.7904e-02,\n",
       "          1.1304e-01, -5.1388e-02,  5.8717e-02,  3.1111e-02, -2.4386e-02],\n",
       "        [-1.9636e-02,  2.0165e-02,  9.3022e-02,  4.6060e-02, -5.7324e-02,\n",
       "          8.3220e-02, -2.2708e-02,  1.0916e-01,  2.3499e-02,  2.7123e-02],\n",
       "        [-4.8964e-02, -1.0459e-02,  2.5443e-02, -1.4489e-02, -3.7968e-02,\n",
       "          1.1261e-01, -6.2477e-02,  5.3346e-02,  2.8421e-02,  1.3694e-02],\n",
       "        [-3.2305e-02, -6.6636e-03,  3.0516e-02, -1.8214e-02,  6.1765e-03,\n",
       "          9.0002e-02, -6.3874e-02,  2.9510e-02,  4.2291e-02,  1.0370e-02],\n",
       "        [-5.5545e-02,  1.9470e-02,  8.1572e-02,  1.9448e-02, -4.1749e-02,\n",
       "          1.0293e-01, -9.5371e-02,  6.1997e-02,  1.8312e-02,  3.1394e-02],\n",
       "        [-8.1425e-02, -6.2234e-03,  8.4742e-02,  7.0794e-03, -3.9430e-02,\n",
       "          1.1685e-01, -7.5567e-02,  4.9545e-02,  4.5051e-02,  3.9634e-03],\n",
       "        [-3.3317e-02,  2.0203e-02,  6.0035e-02, -5.4661e-02,  1.9362e-02,\n",
       "          6.3725e-02, -9.5166e-02,  2.2941e-02,  5.2513e-02, -1.2318e-02],\n",
       "        [-4.6176e-02,  9.4158e-03,  4.3392e-02, -1.9624e-02, -7.3116e-02,\n",
       "          7.7220e-02, -7.2073e-02,  6.3736e-02,  4.9676e-02,  1.4982e-02],\n",
       "        [-6.0170e-03, -1.6567e-02,  6.3642e-02,  3.5070e-03, -5.4580e-02,\n",
       "          7.0294e-02, -7.2536e-02,  6.0016e-02,  4.3410e-02,  3.4775e-03],\n",
       "        [-6.5153e-02, -3.4687e-04,  4.4711e-02, -3.3600e-02, -2.2725e-02,\n",
       "          9.5906e-02, -7.4159e-02,  3.3531e-02,  5.6247e-02, -2.3575e-04],\n",
       "        [-5.7119e-02, -9.2816e-03,  4.7140e-02, -1.7468e-04, -4.3089e-02,\n",
       "          9.7389e-02, -8.0518e-02,  6.1904e-02,  2.6041e-02, -2.8907e-02],\n",
       "        [-1.4657e-02, -2.9028e-02,  6.7120e-02, -2.6759e-02, -4.3594e-02,\n",
       "          8.5312e-02, -9.3033e-02,  4.1750e-02,  1.3778e-02,  3.0334e-02],\n",
       "        [ 2.1416e-03, -2.2701e-02,  6.0795e-02, -2.8612e-02, -7.7047e-02,\n",
       "          9.5251e-02, -9.3469e-02,  2.7184e-02, -2.7458e-03,  2.2931e-02],\n",
       "        [-2.4505e-02, -8.7153e-03,  2.9024e-02, -3.1697e-02, -1.8030e-02,\n",
       "          1.2514e-01, -1.1163e-01,  6.1280e-02,  4.5827e-02, -3.1562e-02],\n",
       "        [-6.2455e-02, -4.4861e-02,  9.2858e-02, -1.2111e-02, -4.0069e-02,\n",
       "          1.0899e-01, -1.2205e-01,  4.3082e-02,  3.2752e-02, -2.7693e-02],\n",
       "        [-3.8348e-02,  4.0010e-03,  3.6283e-02, -4.1230e-02, -4.2371e-02,\n",
       "          9.3115e-02, -9.3284e-02,  4.6806e-02,  7.1044e-02,  8.7765e-04],\n",
       "        [-6.4239e-02,  5.0035e-03,  5.7196e-02, -3.1303e-02, -2.7692e-02,\n",
       "          4.2062e-02, -7.1283e-02,  5.5061e-02,  3.9260e-02,  6.4671e-03],\n",
       "        [-4.5071e-02,  7.9993e-03,  3.1645e-02, -2.3148e-02,  1.0278e-02,\n",
       "          7.9240e-02, -7.3353e-02,  5.9846e-02,  7.7406e-02,  2.5429e-04],\n",
       "        [-3.3213e-02, -5.7930e-03,  5.9724e-02, -8.4608e-03, -7.0663e-02,\n",
       "          8.2053e-02, -5.6902e-02,  4.9645e-02,  5.9873e-02,  3.8861e-02],\n",
       "        [-1.7202e-02, -6.0912e-03,  6.7982e-02, -1.7993e-02, -1.9491e-02,\n",
       "          5.5362e-02, -9.6459e-02,  6.7728e-02,  2.8816e-02, -2.5721e-02],\n",
       "        [-2.6980e-02, -3.1463e-02,  8.4964e-02, -4.3359e-03, -1.7468e-02,\n",
       "          7.0014e-02, -6.7860e-02,  8.0761e-02,  3.0580e-02,  2.3072e-02],\n",
       "        [-4.9650e-02, -9.3153e-03,  2.7168e-02, -1.0413e-02, -1.8024e-02,\n",
       "          6.8937e-02, -7.9957e-02,  7.4034e-02,  7.2022e-02, -1.6451e-02],\n",
       "        [-4.9084e-03, -2.0349e-02,  6.5285e-02, -1.5648e-02,  2.8555e-03,\n",
       "          1.1294e-01, -6.7054e-02,  6.8306e-02,  1.9032e-02, -1.2617e-02],\n",
       "        [-4.0765e-02,  3.1702e-02,  5.6212e-02, -4.5873e-02, -1.7143e-02,\n",
       "          1.0243e-01, -8.1956e-02,  4.8686e-02,  9.0722e-03,  3.5128e-03],\n",
       "        [-1.9264e-02,  1.0237e-02,  5.6394e-02, -4.6376e-02, -1.5561e-02,\n",
       "          6.5643e-02, -6.8513e-02,  9.3395e-02,  3.6536e-02,  2.6920e-02],\n",
       "        [-4.6992e-02,  2.3178e-02,  7.8272e-02, -8.8323e-03, -6.4508e-02,\n",
       "          8.2040e-02, -1.1070e-01,  1.0858e-02,  2.4584e-02, -2.7410e-02],\n",
       "        [-6.0611e-02, -1.5914e-02,  1.6786e-02, -2.5461e-02, -3.5989e-02,\n",
       "          9.9560e-02, -4.9233e-02,  9.3086e-02,  1.3624e-02,  7.0008e-03],\n",
       "        [-2.0661e-02,  1.0140e-02,  7.1270e-02, -4.7694e-03, -4.7717e-02,\n",
       "          1.3914e-01, -7.6552e-02,  4.2145e-02,  1.0495e-02,  2.4006e-02],\n",
       "        [ 2.8684e-02, -3.8104e-02,  1.1777e-01, -3.6890e-03, -6.2774e-03,\n",
       "          7.7559e-02, -9.4706e-02,  8.8910e-02,  5.0236e-02, -1.2510e-02]],\n",
       "       grad_fn=<AddmmBackward>)"
      ]
     },
     "execution_count": 31,
     "metadata": {},
     "output_type": "execute_result"
    }
   ],
   "source": [
    "model(oneBatch)"
   ]
  },
  {
   "cell_type": "markdown",
   "metadata": {},
   "source": [
    "## Let's build a RNN"
   ]
  },
  {
   "cell_type": "code",
   "execution_count": 32,
   "metadata": {},
   "outputs": [],
   "source": [
    "# Hyperpaarameters will be slightly different\n",
    "# same hidden state is shared between RNN so we will make 1\n",
    "\n",
    "input_size = 28\n",
    "sequence_length = 28\n",
    "hidden_size = 256\n",
    "num_layers = 2\n",
    "num_classes = 10\n",
    "learning_rate = 0.005\n",
    "batch_size = 64\n",
    "num_epochs = 2"
   ]
  },
  {
   "cell_type": "code",
   "execution_count": 35,
   "metadata": {},
   "outputs": [
    {
     "data": {
      "text/plain": [
       "CustomRNN(\n",
       "  (rnn): RNN(28, 256, num_layers=2, batch_first=True)\n",
       "  (fc): Linear(in_features=7168, out_features=10, bias=True)\n",
       ")"
      ]
     },
     "execution_count": 35,
     "metadata": {},
     "output_type": "execute_result"
    }
   ],
   "source": [
    "class CustomRNN(nn.Module):\n",
    "    def __init__(self,input_size,num_layers,hidden_size,num_classes):\n",
    "        super(CustomRNN, self).__init__()\n",
    "        self.hidden_size = hidden_size\n",
    "        self.num_layers = num_layers\n",
    "        \n",
    "        self.rnn = nn.RNN(input_size, hidden_size, num_layers, batch_first=True)\n",
    "        self.fc = nn.Linear(hidden_size * sequence_length, num_classes) # h*seq_length because every hidden layer will be returned by default\n",
    "        \n",
    "    def forward(self,x):\n",
    "        # Set initial hidden and cell states\n",
    "        h0 = torch.zeros(self.num_layers, x.size(0), self.hidden_size).to(device) # n_layer x batch x hidden_size\n",
    "        \n",
    "        # Forward propagate LSTM\n",
    "        out, _ = self.rnn(x, h0) # pass both input and hidden_layer\n",
    "        \n",
    "        # reshape for Linear Layer\n",
    "        out = out.reshape(out.shape[0], -1)\n",
    "                \n",
    "        # Decode the hidden state of the last time step\n",
    "        out = self.fc(out)\n",
    "        return out\n",
    "    \n",
    "    \n",
    "model = CustomRNN(input_size,num_layers,hidden_size,num_classes).to(device)\n",
    "model"
   ]
  },
  {
   "cell_type": "code",
   "execution_count": 37,
   "metadata": {},
   "outputs": [
    {
     "name": "stdout",
     "output_type": "stream",
     "text": [
      "torch.Size([64, 1, 28, 28])\n",
      "After Squeezing torch.Size([64, 28, 28])\n"
     ]
    },
    {
     "data": {
      "text/plain": [
       "tensor([[-7.7867e-03,  5.4862e-02,  1.7002e-02,  6.4441e-02,  5.2487e-02,\n",
       "          2.8914e-02,  1.5277e-01, -1.9888e-02,  1.2032e-02,  7.9564e-03],\n",
       "        [-6.4290e-02,  2.7693e-02,  1.8062e-02,  4.5737e-02,  6.1575e-02,\n",
       "          8.9556e-02,  1.3377e-01, -1.7753e-02, -1.5532e-02,  2.5969e-02],\n",
       "        [-1.8605e-02,  5.4065e-02,  5.8990e-02,  7.6414e-02,  9.7907e-02,\n",
       "          3.6185e-02,  1.3990e-01, -4.0081e-02, -4.1888e-02,  1.6626e-02],\n",
       "        [-2.2491e-02,  1.5034e-02,  3.7233e-02,  4.1070e-02,  4.6367e-02,\n",
       "          1.2386e-02,  1.4849e-01, -3.1737e-02,  1.0489e-02, -1.4226e-02],\n",
       "        [-7.5412e-03,  4.6539e-02,  2.2524e-02,  5.7146e-02,  7.8986e-02,\n",
       "          3.1752e-03,  1.2871e-01, -7.5431e-02, -7.0431e-02, -1.6278e-03],\n",
       "        [-6.0760e-03,  5.3313e-02,  3.0501e-02,  2.3270e-02,  4.9809e-02,\n",
       "          4.0186e-02,  1.2841e-01, -7.7128e-02, -8.2093e-02, -3.7051e-02],\n",
       "        [-6.3949e-02,  5.7773e-02,  5.3589e-02,  5.7718e-02,  8.8511e-03,\n",
       "          2.4711e-02,  1.4395e-01, -5.9348e-02, -5.7155e-02, -6.4035e-03],\n",
       "        [ 6.7962e-03,  6.7915e-02,  3.8866e-02,  6.7385e-02,  4.2278e-02,\n",
       "          2.5401e-02,  1.4419e-01, -5.3588e-02, -4.9179e-03, -1.8155e-02],\n",
       "        [-1.2280e-02,  6.4764e-02, -3.6728e-04,  3.5614e-02,  1.1092e-01,\n",
       "          4.9435e-02,  1.4103e-01, -3.5525e-02, -6.3930e-02, -5.4959e-02],\n",
       "        [-1.8126e-02,  1.5819e-02,  1.3741e-02,  1.8506e-02,  4.6769e-02,\n",
       "          3.8380e-02,  1.5034e-01, -6.0846e-04, -1.3631e-02, -2.7653e-02],\n",
       "        [-2.9981e-02,  3.6229e-02,  4.1420e-02,  4.7838e-02,  6.2939e-02,\n",
       "          3.0674e-02,  1.5705e-01, -2.2169e-02, -1.5185e-02,  3.0726e-02],\n",
       "        [ 6.2379e-03,  7.6325e-02,  3.5669e-02,  7.3871e-02,  5.3765e-02,\n",
       "          4.0619e-02,  1.4768e-01, -1.5769e-02, -4.6469e-02,  4.3033e-03],\n",
       "        [-3.9586e-02,  6.3773e-03, -6.4707e-03,  3.7670e-02,  5.2346e-02,\n",
       "          1.9848e-02,  1.5140e-01, -1.7811e-02, -3.5204e-02,  7.7982e-03],\n",
       "        [-7.2753e-02,  2.1311e-02,  2.5400e-02,  6.3393e-02,  5.4317e-02,\n",
       "          1.8483e-02,  1.7134e-01, -2.6881e-02, -4.1593e-02, -5.2206e-02],\n",
       "        [-5.0671e-02,  4.2964e-02,  2.2746e-02,  7.3609e-02,  8.0481e-02,\n",
       "          5.1249e-02,  1.6073e-01, -2.2567e-02, -3.4567e-02, -1.0128e-04],\n",
       "        [-1.3613e-02,  4.1657e-02,  2.1012e-02,  6.5859e-02,  4.5082e-02,\n",
       "          1.7057e-02,  1.5647e-01, -1.3277e-02, -2.9050e-02,  2.1083e-02],\n",
       "        [-2.4393e-02,  7.2016e-02,  1.2544e-02,  7.9520e-02,  6.2674e-02,\n",
       "          7.4196e-02,  1.3815e-01, -3.0908e-02, -5.4406e-02, -4.7479e-03],\n",
       "        [ 9.2419e-03,  3.7854e-02,  2.1323e-02,  8.0804e-02,  4.5391e-02,\n",
       "          1.8362e-03,  1.3615e-01, -4.1722e-02, -4.3323e-02,  4.0547e-03],\n",
       "        [-8.1124e-02,  3.2334e-03, -3.2819e-04,  8.3819e-02,  8.0542e-02,\n",
       "          2.1098e-02,  1.4672e-01, -2.7013e-02, -5.0943e-02,  1.2990e-02],\n",
       "        [-2.1135e-02,  6.6989e-02,  3.0392e-02,  5.6310e-02,  7.5968e-02,\n",
       "          1.0257e-03,  1.5121e-01, -6.0672e-02, -5.5929e-02,  1.8945e-02],\n",
       "        [-4.9941e-02,  2.9585e-02,  2.5470e-02,  5.0430e-02,  2.6502e-02,\n",
       "          6.0295e-02,  1.2063e-01, -5.9985e-03,  1.0279e-02, -1.1441e-02],\n",
       "        [-3.9984e-02,  4.8871e-02,  2.2479e-03,  5.8685e-02,  8.8756e-02,\n",
       "          3.6320e-02,  1.5935e-01, -5.2911e-02, -1.4626e-02,  3.8715e-02],\n",
       "        [-4.4700e-03,  6.1379e-02,  4.4183e-02,  6.4228e-02,  2.8642e-02,\n",
       "         -2.2246e-05,  1.3691e-01, -3.7554e-02, -4.0535e-02,  2.6308e-02],\n",
       "        [-2.8273e-02,  5.9684e-02,  3.2105e-02,  6.5018e-02,  8.5585e-02,\n",
       "          1.4263e-02,  1.3666e-01, -7.3392e-02, -5.4984e-02,  2.0457e-02],\n",
       "        [-2.7650e-02,  3.6268e-02,  3.2383e-02,  6.7602e-02,  1.0229e-01,\n",
       "          4.7914e-02,  1.8515e-01, -2.9129e-02, -3.5545e-02, -4.1667e-02],\n",
       "        [-4.0395e-02,  5.8710e-03,  1.3523e-02,  2.6367e-02,  4.1763e-02,\n",
       "          3.1541e-02,  1.4418e-01, -6.5642e-03,  3.7138e-02,  1.6977e-02],\n",
       "        [-3.7150e-02,  5.7895e-02,  2.5382e-02,  5.7884e-02,  8.3055e-02,\n",
       "          5.5855e-02,  1.4556e-01, -1.2898e-03, -3.6861e-03,  1.0495e-02],\n",
       "        [-3.9826e-02,  4.1851e-02,  3.2062e-02,  6.7284e-02,  7.5404e-02,\n",
       "          4.7058e-02,  1.3593e-01, -2.0644e-02, -8.3084e-03, -4.7442e-02],\n",
       "        [-2.5419e-02,  1.1501e-02,  5.1915e-02,  3.7760e-02,  3.4681e-02,\n",
       "          3.9013e-02,  1.3168e-01, -1.7980e-02, -5.3266e-02, -3.4390e-02],\n",
       "        [-1.3496e-02,  1.4767e-02,  2.6133e-02,  3.2447e-02,  7.5281e-02,\n",
       "          2.2836e-02,  1.1756e-01, -5.3444e-02, -6.2467e-02,  5.2911e-04],\n",
       "        [ 1.8863e-02,  1.8098e-02,  5.1904e-02,  7.0381e-02,  4.0106e-02,\n",
       "          4.0987e-02,  1.5115e-01, -1.5873e-02, -6.4441e-03,  3.9351e-02],\n",
       "        [-1.7063e-02,  4.9233e-02,  4.2149e-02,  7.6975e-02,  4.2517e-03,\n",
       "          2.9453e-02,  1.6806e-01, -7.2315e-02, -4.6951e-02, -7.5608e-04],\n",
       "        [-3.9953e-02, -3.9698e-03,  4.6176e-02,  5.8806e-02,  3.0838e-02,\n",
       "          5.4825e-02,  1.1106e-01, -1.2216e-02, -8.6269e-02, -2.8771e-03],\n",
       "        [-1.9409e-02,  4.3836e-02,  8.6714e-03,  3.0829e-02,  7.7506e-02,\n",
       "          4.5139e-02,  1.4805e-01, -5.7032e-02, -3.5391e-02, -5.3601e-03],\n",
       "        [ 2.6123e-03,  1.0386e-01,  5.2357e-02,  7.0534e-02,  7.2356e-02,\n",
       "          5.1294e-02,  1.3407e-01, -6.0233e-02, -4.3072e-02, -2.8052e-02],\n",
       "        [-6.1004e-02,  9.5845e-03, -1.7594e-03,  6.0961e-02,  3.3924e-02,\n",
       "          4.6564e-02,  1.5098e-01, -6.4508e-02, -3.5845e-02, -3.5523e-02],\n",
       "        [-2.1114e-02,  3.3403e-02,  4.5036e-02,  4.1610e-02,  4.7674e-02,\n",
       "          4.6417e-02,  1.1835e-01, -2.6354e-02, -2.2869e-02, -2.3388e-02],\n",
       "        [-2.2383e-02,  3.6063e-02, -1.4943e-02,  5.8580e-02,  9.1432e-02,\n",
       "          1.0109e-01,  1.5633e-01, -4.5731e-02, -1.3432e-02,  3.1713e-02],\n",
       "        [-1.9869e-02,  7.5925e-02,  5.0960e-02,  6.9048e-03,  1.0518e-01,\n",
       "          8.0329e-02,  1.4435e-01, -4.6287e-02, -1.9365e-02, -5.6250e-03],\n",
       "        [-4.5167e-03,  2.7475e-02,  3.4389e-02,  4.1432e-02,  7.5042e-02,\n",
       "          4.2848e-02,  1.7032e-01, -4.6300e-02, -6.1848e-02,  3.1030e-04],\n",
       "        [-4.6764e-02,  1.4939e-02,  3.3376e-02,  6.0033e-02,  8.0557e-02,\n",
       "          3.4285e-02,  1.4878e-01, -4.7925e-02, -3.8788e-02,  4.8732e-02],\n",
       "        [-1.5920e-02,  6.9697e-02,  7.7131e-02,  5.4897e-02,  1.1611e-01,\n",
       "          1.0014e-01,  1.1350e-01, -6.1038e-02, -6.1115e-02, -2.3554e-02],\n",
       "        [-5.4834e-03,  4.4611e-02,  4.6334e-02,  4.6034e-02,  5.5779e-02,\n",
       "          7.5047e-02,  1.6494e-01, -1.0027e-01, -2.4809e-02, -1.9335e-02],\n",
       "        [-3.7730e-02,  1.0077e-01,  3.4824e-02,  5.6630e-02,  5.4080e-02,\n",
       "          5.6219e-02,  1.1719e-01, -3.7682e-02, -5.9053e-02, -1.2624e-02],\n",
       "        [-3.2635e-02,  4.8715e-02,  4.2059e-02,  5.8630e-02,  9.8246e-02,\n",
       "         -9.9484e-04,  1.2273e-01, -3.2129e-02, -5.6737e-02,  3.3934e-02],\n",
       "        [-2.9748e-02,  4.2427e-02,  5.8729e-02,  7.6060e-02,  5.2498e-02,\n",
       "         -2.3116e-03,  1.6099e-01, -3.2984e-02, -4.7001e-02,  2.3201e-02],\n",
       "        [-6.7021e-02,  5.4514e-02,  2.4139e-02,  6.9747e-02,  4.8948e-02,\n",
       "          6.9979e-02,  1.6734e-01, -6.0426e-02, -1.9967e-02,  2.3670e-05],\n",
       "        [-2.3690e-02,  4.6623e-02,  1.4703e-02,  8.0130e-02,  6.9770e-02,\n",
       "          3.8306e-02,  1.5611e-01, -7.4964e-02, -6.3290e-02,  1.3154e-02],\n",
       "        [-6.3674e-02,  2.7177e-02,  2.4818e-02,  8.9033e-02,  8.6538e-02,\n",
       "          6.1634e-02,  1.5034e-01,  3.0853e-03, -4.2309e-02, -3.7566e-03],\n",
       "        [-2.4982e-02,  5.3480e-02,  4.5748e-02,  7.4235e-02,  6.0633e-02,\n",
       "         -1.0143e-02,  1.9520e-01, -5.0201e-03,  1.1342e-02,  8.7069e-02],\n",
       "        [-4.4084e-02,  6.0556e-02,  2.7747e-02,  7.7419e-02,  8.9550e-02,\n",
       "          5.5157e-02,  1.2186e-01, -4.1355e-02, -1.5740e-02, -2.1002e-03],\n",
       "        [ 2.6179e-02,  7.1663e-02,  7.4446e-02,  7.1069e-02,  3.5497e-02,\n",
       "          5.3186e-02,  1.3021e-01, -3.6500e-02, -4.6414e-02, -7.6044e-03],\n",
       "        [-2.1268e-02,  2.3101e-02,  6.1523e-02,  7.2127e-02,  5.6302e-02,\n",
       "          7.4353e-02,  1.4195e-01, -2.3870e-02, -1.0909e-02, -2.3433e-02],\n",
       "        [ 1.5356e-02,  7.6154e-02,  3.8243e-02,  7.2816e-02,  4.7373e-02,\n",
       "          4.9008e-02,  1.6855e-01, -4.1429e-02, -1.0008e-02, -2.3430e-02],\n",
       "        [-1.1791e-01,  5.1334e-02,  3.6058e-03,  1.0318e-01,  1.0373e-01,\n",
       "          6.8792e-02,  1.4445e-01, -4.2612e-02, -6.7506e-02, -2.1343e-02],\n",
       "        [-5.3965e-02,  1.5631e-02,  4.4475e-02, -2.9387e-03,  9.4975e-02,\n",
       "          6.5546e-02,  1.4473e-01,  3.5835e-03, -1.1381e-02, -1.1233e-02],\n",
       "        [-3.2333e-02,  4.7400e-02,  1.5289e-02,  8.8638e-02,  7.5778e-02,\n",
       "          7.6435e-02,  1.1483e-01, -4.9454e-03, -2.3599e-02, -2.5415e-02],\n",
       "        [-1.2196e-02,  2.8431e-02,  1.8391e-02,  7.0924e-02,  6.6878e-02,\n",
       "          7.9125e-02,  1.7044e-01, -2.8395e-02,  2.4470e-03,  7.5269e-04],\n",
       "        [-2.4511e-02,  3.7192e-02,  1.1325e-02,  5.0790e-02,  3.7309e-02,\n",
       "          3.4425e-02,  1.2121e-01, -3.1699e-02, -5.3528e-02, -1.2811e-02],\n",
       "        [-7.3028e-02,  4.9852e-02, -2.2177e-03,  5.7728e-02,  8.9173e-02,\n",
       "          7.5065e-02,  1.1802e-01, -6.1560e-02, -3.5642e-02, -5.2502e-02],\n",
       "        [ 5.6526e-04,  2.3109e-02,  3.5905e-02,  3.5932e-02,  8.1321e-02,\n",
       "          4.8443e-04,  1.6041e-01, -4.4227e-02, -3.8849e-02,  1.5187e-03],\n",
       "        [-6.6829e-03,  6.5644e-02,  1.5600e-02,  5.4871e-02,  4.6279e-02,\n",
       "          4.7148e-02,  1.3175e-01, -5.3719e-02, -2.7869e-02, -5.3815e-03],\n",
       "        [-2.3151e-02,  3.5099e-02,  2.2884e-02,  6.9091e-02,  4.4517e-02,\n",
       "          3.5945e-02,  1.3478e-01, -2.1822e-02, -3.7666e-02, -8.0997e-03],\n",
       "        [-9.9187e-02,  2.5546e-02,  1.9539e-02,  7.8436e-02,  4.9366e-02,\n",
       "          7.4424e-02,  1.2384e-01, -3.0523e-02, -3.3314e-02, -3.2393e-02]],\n",
       "       grad_fn=<AddmmBackward>)"
      ]
     },
     "execution_count": 37,
     "metadata": {},
     "output_type": "execute_result"
    }
   ],
   "source": [
    "print(oneBatch.shape)\n",
    "print(f\"After Squeezing {oneBatch.squeeze(1).shape}\")\n",
    "model(oneBatch.squeeze(1)) "
   ]
  },
  {
   "cell_type": "markdown",
   "metadata": {},
   "source": [
    "## Let's build a LSTM"
   ]
  },
  {
   "cell_type": "code",
   "execution_count": 40,
   "metadata": {},
   "outputs": [
    {
     "data": {
      "text/plain": [
       "CustomLSTM(\n",
       "  (rnn): LSTM(28, 256, num_layers=2, batch_first=True)\n",
       "  (fc): Linear(in_features=7168, out_features=10, bias=True)\n",
       ")"
      ]
     },
     "execution_count": 40,
     "metadata": {},
     "output_type": "execute_result"
    }
   ],
   "source": [
    "class CustomLSTM(nn.Module):\n",
    "    def __init__(self,input_size,num_layers,hidden_size,num_classes):\n",
    "        super(CustomLSTM, self).__init__()\n",
    "        self.hidden_size = hidden_size\n",
    "        self.num_layers = num_layers\n",
    "        \n",
    "        self.rnn = nn.LSTM(input_size, hidden_size, num_layers, batch_first=True)\n",
    "        self.fc = nn.Linear(hidden_size * sequence_length, num_classes) # h*seq_length because every hidden layer will be returned by default\n",
    "        \n",
    "    def forward(self,x):\n",
    "        # Set initial hidden and cell states\n",
    "        h0 = torch.zeros(self.num_layers, x.size(0), self.hidden_size).to(device) # n_layer x batch x hidden_size\n",
    "        c0 = torch.zeros(self.num_layers, x.size(0), self.hidden_size).to(device) # LSTM requires a new state, cell state\n",
    "        # Forward propagate LSTM\n",
    "        out, _ = self.rnn(x, (h0,c0)) # pass both input and hidden_layer\n",
    "        \n",
    "        # reshape for Linear Layer\n",
    "        out = out.reshape(out.shape[0], -1)\n",
    "                \n",
    "        # Decode the hidden state of the last time step\n",
    "        out = self.fc(out)\n",
    "        return out\n",
    "    \n",
    "    \n",
    "model = CustomLSTM(input_size,num_layers,hidden_size,num_classes).to(device)\n",
    "model"
   ]
  },
  {
   "cell_type": "code",
   "execution_count": 41,
   "metadata": {},
   "outputs": [
    {
     "name": "stdout",
     "output_type": "stream",
     "text": [
      "torch.Size([64, 1, 28, 28])\n",
      "After Squeezing torch.Size([64, 28, 28])\n"
     ]
    },
    {
     "data": {
      "text/plain": [
       "tensor([[-1.6261e-02, -1.2251e-02,  4.8639e-03,  6.7531e-03,  1.4366e-02,\n",
       "          6.5362e-03,  6.9961e-03,  2.8711e-02, -1.8575e-02, -1.5726e-02],\n",
       "        [-1.0902e-02, -1.5688e-02,  1.3378e-02, -6.5024e-03,  1.3055e-02,\n",
       "          1.0772e-02,  1.2000e-02,  2.4829e-02, -2.0023e-02, -1.5289e-02],\n",
       "        [-2.5723e-03, -9.1180e-03,  5.5391e-05, -1.6861e-05,  1.9458e-02,\n",
       "         -7.3156e-04,  9.9882e-03,  2.6085e-02, -1.8771e-02, -1.0173e-02],\n",
       "        [-1.5172e-02, -6.6282e-03,  2.3658e-03,  1.4876e-03,  1.6678e-02,\n",
       "          4.3901e-03,  6.4023e-03,  2.8412e-02, -2.4311e-02, -2.1052e-02],\n",
       "        [-9.9479e-03, -4.6030e-03,  2.3462e-03, -5.2898e-03,  1.8700e-02,\n",
       "          2.0758e-03,  6.7418e-03,  2.8708e-02, -1.8640e-02, -1.5588e-02],\n",
       "        [-1.7689e-02, -1.4401e-02,  1.3802e-02, -1.1303e-02,  1.4465e-02,\n",
       "          9.4364e-03, -6.1938e-05,  2.7945e-02, -1.6641e-02, -1.7132e-02],\n",
       "        [-1.0052e-02, -1.1185e-02,  2.5419e-03, -3.0387e-03,  1.6449e-02,\n",
       "          8.4674e-03,  6.4157e-03,  2.0772e-02, -2.2427e-02, -1.6004e-02],\n",
       "        [-1.7778e-02, -7.5312e-03,  3.8266e-03,  3.7206e-03,  1.3277e-02,\n",
       "          6.2386e-03,  2.7042e-03,  2.6992e-02, -2.0667e-02, -2.2772e-02],\n",
       "        [-8.0522e-03, -1.1265e-02,  1.2543e-02, -2.9126e-03,  1.7919e-02,\n",
       "          4.2811e-03,  7.6710e-03,  2.4643e-02, -1.5374e-02, -1.7133e-02],\n",
       "        [-1.8706e-02, -1.3024e-02,  1.0133e-02, -3.2796e-03,  1.3921e-02,\n",
       "          9.2391e-03,  3.3358e-03,  2.7541e-02, -2.4405e-02, -2.2004e-02],\n",
       "        [-8.6540e-03, -1.2160e-02,  6.2848e-03,  1.0953e-02,  1.2914e-02,\n",
       "          8.0155e-03,  1.1327e-02,  2.6878e-02, -1.7453e-02, -1.5621e-02],\n",
       "        [-1.1380e-02, -1.2715e-02,  5.7215e-03,  3.8885e-03,  1.3447e-02,\n",
       "          4.6086e-03,  1.2026e-02,  2.8270e-02, -1.8921e-02, -1.6408e-02],\n",
       "        [-1.1513e-02, -1.8273e-02,  9.2124e-03,  2.6518e-03,  1.4330e-02,\n",
       "          9.1054e-03,  9.7197e-03,  2.7304e-02, -1.5887e-02, -1.5487e-02],\n",
       "        [-1.4945e-02, -1.7947e-02,  4.6156e-03, -5.3093e-03,  2.0411e-02,\n",
       "          5.5050e-03,  1.0378e-02,  2.6061e-02, -2.4627e-02, -1.4895e-02],\n",
       "        [-9.9579e-03, -1.6017e-02,  3.7912e-03, -5.7593e-03,  1.7971e-02,\n",
       "          7.7934e-03,  1.5524e-02,  1.9439e-02, -2.3009e-02, -1.4356e-02],\n",
       "        [-5.8521e-03, -1.5474e-02,  2.7917e-03,  8.5751e-03,  1.8249e-02,\n",
       "          3.7408e-03,  1.0867e-02,  2.3529e-02, -2.0271e-02, -1.2295e-02],\n",
       "        [-1.1697e-02, -1.7513e-02,  3.7213e-03,  2.2933e-03,  1.4577e-02,\n",
       "          5.3638e-03,  6.1010e-03,  2.4861e-02, -1.7584e-02, -1.5860e-02],\n",
       "        [-1.2487e-02, -1.0390e-02,  1.5948e-03,  3.3916e-03,  1.5203e-02,\n",
       "          3.9315e-03,  8.6151e-03,  2.7722e-02, -1.9909e-02, -1.8621e-02],\n",
       "        [-4.9077e-03, -1.6542e-02,  7.4309e-03, -2.8292e-04,  1.9774e-02,\n",
       "          8.9511e-03,  1.4195e-02,  2.0627e-02, -1.9572e-02, -1.8249e-02],\n",
       "        [-7.4031e-03, -1.5052e-02,  3.7977e-03, -2.1908e-03,  1.6588e-02,\n",
       "          3.0046e-03,  8.1494e-03,  2.5044e-02, -1.7404e-02, -1.3176e-02],\n",
       "        [-6.8105e-03, -1.4186e-02,  7.0751e-03,  4.1980e-03,  1.9067e-02,\n",
       "          9.3916e-03,  1.0925e-02,  2.2852e-02, -2.1353e-02, -1.6635e-02],\n",
       "        [-1.0654e-02, -1.5002e-02,  2.5144e-03,  3.5943e-03,  1.4285e-02,\n",
       "         -5.3686e-04,  5.9801e-03,  2.4286e-02, -1.8220e-02, -1.4471e-02],\n",
       "        [-1.7312e-02, -6.9408e-03,  6.1084e-03,  1.2115e-03,  1.3416e-02,\n",
       "          4.5267e-03,  1.3199e-02,  2.8922e-02, -1.8741e-02, -1.7530e-02],\n",
       "        [-1.0805e-02, -1.2147e-02,  4.0714e-04, -2.9246e-03,  1.6895e-02,\n",
       "          3.7161e-03,  3.5954e-03,  2.7806e-02, -1.2682e-02, -1.0276e-02],\n",
       "        [-8.7943e-03, -9.4501e-03,  6.8623e-04,  1.1205e-02,  1.7923e-02,\n",
       "          4.3681e-03,  7.6076e-03,  2.2161e-02, -2.2235e-02, -1.6295e-02],\n",
       "        [-1.6426e-02, -1.4009e-02,  4.9983e-03, -2.5276e-03,  1.7514e-02,\n",
       "          9.2167e-03,  8.2369e-03,  2.4587e-02, -2.6507e-02, -2.3509e-02],\n",
       "        [-1.2257e-02, -1.4558e-02,  5.8931e-03,  6.8189e-03,  1.6234e-02,\n",
       "          4.6340e-03,  8.4668e-03,  2.3156e-02, -2.0079e-02, -1.4333e-02],\n",
       "        [-1.4011e-02, -1.3356e-02,  6.9049e-03,  6.3639e-03,  1.4037e-02,\n",
       "          5.6900e-03,  9.3833e-03,  2.5319e-02, -2.1315e-02, -1.7770e-02],\n",
       "        [-1.1402e-02, -1.6604e-02,  8.1422e-03,  2.2578e-03,  1.4993e-02,\n",
       "          7.4215e-03,  1.3352e-02,  2.7145e-02, -1.7967e-02, -1.3038e-02],\n",
       "        [-2.7024e-03, -1.7656e-02,  6.1815e-03, -3.6308e-03,  1.7888e-02,\n",
       "          7.3999e-04,  1.1121e-02,  2.6003e-02, -2.4233e-02, -9.8356e-03],\n",
       "        [-1.0479e-02, -1.4543e-02,  3.7331e-03,  5.9339e-03,  1.5127e-02,\n",
       "          4.1589e-03,  1.3925e-02,  2.6941e-02, -2.3375e-02, -1.4133e-02],\n",
       "        [-1.4091e-02, -1.3178e-02,  2.3851e-03, -1.3219e-03,  1.6648e-02,\n",
       "          8.2658e-03,  8.2188e-03,  2.1725e-02, -2.1378e-02, -1.6655e-02],\n",
       "        [-9.2630e-03, -1.7482e-02,  7.4841e-03, -1.0301e-03,  1.5219e-02,\n",
       "          5.6809e-03,  9.8412e-03,  2.8534e-02, -1.9812e-02, -1.2929e-02],\n",
       "        [-5.5486e-03, -1.1530e-02,  7.2712e-03,  2.0251e-03,  1.5835e-02,\n",
       "          6.6868e-04,  9.8429e-03,  2.9176e-02, -1.5072e-02, -1.4082e-02],\n",
       "        [-1.0542e-02, -1.1058e-02,  1.5729e-03, -2.4174e-03,  1.4207e-02,\n",
       "          7.9281e-03,  3.3412e-03,  2.4426e-02, -1.9705e-02, -1.3807e-02],\n",
       "        [-2.0766e-02, -1.2829e-02,  4.7953e-03, -9.2907e-04,  1.6681e-02,\n",
       "          5.6823e-03,  7.7683e-03,  2.2782e-02, -2.4730e-02, -1.7445e-02],\n",
       "        [-8.3788e-03, -1.3508e-02,  4.9395e-03,  4.3127e-04,  1.4246e-02,\n",
       "          6.3294e-03,  1.1717e-02,  2.3114e-02, -2.4681e-02, -1.3216e-02],\n",
       "        [-8.9889e-03, -1.1708e-02,  5.5754e-03,  3.4350e-03,  1.0863e-02,\n",
       "          4.2532e-03,  1.0128e-02,  2.4558e-02, -1.7850e-02, -1.4007e-02],\n",
       "        [-7.9236e-03, -1.2241e-02,  5.6789e-03,  3.7380e-03,  1.3471e-02,\n",
       "          4.1281e-03,  8.5930e-03,  2.6418e-02, -1.7999e-02, -9.5159e-03],\n",
       "        [-1.0796e-02, -1.3360e-02,  4.5691e-03,  3.0986e-03,  1.7253e-02,\n",
       "          3.5884e-03,  5.5571e-03,  2.8870e-02, -2.1333e-02, -1.5682e-02],\n",
       "        [-9.2244e-03, -1.2210e-02,  7.4375e-03,  1.1398e-03,  1.9241e-02,\n",
       "          4.1182e-03,  8.4976e-03,  3.0573e-02, -1.5879e-02, -1.3924e-02],\n",
       "        [-2.6710e-03, -7.1189e-03,  5.1801e-03, -2.9221e-03,  1.7639e-02,\n",
       "          5.2992e-03,  5.0502e-03,  2.7952e-02, -1.7539e-02, -9.7952e-03],\n",
       "        [-1.3752e-02, -9.5256e-03,  6.6291e-03,  7.2228e-03,  1.1789e-02,\n",
       "          2.5921e-03,  6.4089e-03,  2.5308e-02, -1.9479e-02, -1.8200e-02],\n",
       "        [-7.0308e-03, -1.3618e-02,  5.5496e-03,  1.1214e-03,  1.6543e-02,\n",
       "          4.9578e-03,  1.0872e-02,  2.3597e-02, -2.3122e-02, -1.2683e-02],\n",
       "        [-6.8140e-03, -1.6991e-02,  2.3631e-03,  2.9894e-03,  1.8968e-02,\n",
       "          2.0345e-03,  6.9173e-03,  2.8850e-02, -1.3806e-02, -9.9325e-03],\n",
       "        [-1.4856e-02, -4.2788e-03, -1.8446e-03, -2.9711e-03,  1.7689e-02,\n",
       "          6.1678e-03,  9.1584e-03,  2.6295e-02, -2.0643e-02, -1.7596e-02],\n",
       "        [-1.0569e-02, -1.7710e-02,  4.8856e-03, -3.4231e-03,  1.9493e-02,\n",
       "          6.0554e-03,  8.4179e-03,  1.9387e-02, -2.3565e-02, -1.7724e-02],\n",
       "        [-1.0418e-02, -1.3503e-02,  3.9635e-03,  3.0853e-03,  1.8769e-02,\n",
       "          3.8797e-03,  6.3965e-03,  2.3993e-02, -2.1063e-02, -1.7609e-02],\n",
       "        [-8.4615e-03, -1.4955e-02,  4.7358e-03,  3.3208e-03,  1.8523e-02,\n",
       "          9.3088e-03,  9.5188e-03,  2.0589e-02, -1.7152e-02, -1.2310e-02],\n",
       "        [-9.1253e-03, -4.0724e-03,  6.9179e-04,  3.3867e-03,  1.3963e-02,\n",
       "          4.7446e-03,  8.1097e-03,  2.4303e-02, -2.1043e-02, -1.1528e-02],\n",
       "        [-6.9185e-03, -1.4821e-02,  2.7585e-03,  7.5849e-03,  1.7612e-02,\n",
       "          1.6387e-03,  7.5918e-03,  2.3873e-02, -1.6550e-02, -1.1215e-02],\n",
       "        [-8.6674e-03, -9.2716e-03,  3.7711e-03, -5.8700e-04,  1.8707e-02,\n",
       "          4.8575e-03,  6.5509e-03,  2.9799e-02, -1.6689e-02, -1.8502e-02],\n",
       "        [-8.4949e-03, -1.3961e-02,  2.7973e-03,  3.1696e-03,  1.6806e-02,\n",
       "          6.3013e-03,  1.0131e-02,  2.5333e-02, -1.5763e-02, -1.0179e-02],\n",
       "        [-1.3272e-02, -7.6794e-03,  4.5840e-03,  1.0103e-02,  1.4023e-02,\n",
       "          5.2028e-03,  5.1322e-03,  2.7193e-02, -2.0093e-02, -2.0726e-02],\n",
       "        [-5.3818e-03, -2.3221e-02,  7.8647e-03, -4.9334e-03,  2.1688e-02,\n",
       "          1.1459e-02,  7.2855e-03,  1.5113e-02, -2.0575e-02, -1.6502e-02],\n",
       "        [-3.6119e-03, -2.2675e-02,  5.9450e-03,  4.2134e-03,  1.8642e-02,\n",
       "          5.2538e-03,  1.1612e-02,  2.1816e-02, -2.2606e-02, -1.4343e-02],\n",
       "        [-1.2219e-02, -1.8380e-02,  6.3791e-03,  1.8403e-03,  1.6445e-02,\n",
       "          6.8514e-03,  1.0224e-02,  2.2440e-02, -1.9221e-02, -1.4047e-02],\n",
       "        [-4.4234e-03, -1.8379e-02,  6.0596e-03,  4.4297e-03,  1.6694e-02,\n",
       "          6.7955e-03,  1.2893e-02,  2.1299e-02, -1.9635e-02, -1.1844e-02],\n",
       "        [-1.3143e-02, -1.3660e-02,  7.4621e-03, -9.2582e-04,  1.7580e-02,\n",
       "          8.6485e-03,  1.0730e-02,  2.6214e-02, -2.0720e-02, -1.6284e-02],\n",
       "        [-1.3392e-02, -1.6763e-02,  9.4992e-03, -3.6258e-03,  1.8524e-02,\n",
       "          8.4866e-03,  5.9636e-03,  2.3001e-02, -2.0375e-02, -1.5119e-02],\n",
       "        [-1.0463e-02, -9.2427e-03,  7.8394e-03,  5.4118e-04,  1.4824e-02,\n",
       "          1.1595e-03,  5.4856e-03,  3.2153e-02, -1.5582e-02, -1.5967e-02],\n",
       "        [-2.1507e-02, -9.1069e-03,  3.5096e-03,  3.4736e-04,  1.3247e-02,\n",
       "          9.7701e-03, -4.1508e-04,  2.7607e-02, -2.0191e-02, -1.9556e-02],\n",
       "        [-1.4828e-02, -1.4051e-02,  6.0089e-03,  2.2307e-03,  1.6014e-02,\n",
       "          3.9409e-03,  8.3321e-03,  2.7470e-02, -2.0974e-02, -1.4562e-02],\n",
       "        [-1.0557e-02, -2.4802e-02,  1.0639e-02, -1.2595e-02,  2.3092e-02,\n",
       "          1.3842e-02,  7.4924e-03,  1.2756e-02, -2.7815e-02, -1.8524e-02]],\n",
       "       grad_fn=<AddmmBackward>)"
      ]
     },
     "execution_count": 41,
     "metadata": {},
     "output_type": "execute_result"
    }
   ],
   "source": [
    "print(oneBatch.shape)\n",
    "print(f\"After Squeezing {oneBatch.squeeze(1).shape}\")\n",
    "model(oneBatch.squeeze(1)) "
   ]
  },
  {
   "cell_type": "markdown",
   "metadata": {},
   "source": [
    "## Making a Custom DataSet "
   ]
  },
  {
   "cell_type": "code",
   "execution_count": 10,
   "metadata": {},
   "outputs": [
    {
     "name": "stderr",
     "output_type": "stream",
     "text": [
      "/home/alaap/projects/env_py3.6/lib/python3.6/site-packages/pandas/compat/__init__.py:120: UserWarning: Could not import the lzma module. Your installed Python is incomplete. Attempting to use lzma compression will result in a RuntimeError.\n",
      "  warnings.warn(msg)\n"
     ]
    },
    {
     "ename": "FileNotFoundError",
     "evalue": "[Errno 2] No such file or directory: 'X.csv'",
     "output_type": "error",
     "traceback": [
      "\u001b[0;31m---------------------------------------------------------------------------\u001b[0m",
      "\u001b[0;31mFileNotFoundError\u001b[0m                         Traceback (most recent call last)",
      "\u001b[0;32m<ipython-input-10-0b3fe0429baf>\u001b[0m in \u001b[0;36m<module>\u001b[0;34m\u001b[0m\n\u001b[1;32m     25\u001b[0m \u001b[0;34m\u001b[0m\u001b[0m\n\u001b[1;32m     26\u001b[0m \u001b[0;31m# Load Data\u001b[0m\u001b[0;34m\u001b[0m\u001b[0;34m\u001b[0m\u001b[0;34m\u001b[0m\u001b[0m\n\u001b[0;32m---> 27\u001b[0;31m \u001b[0mdataset\u001b[0m \u001b[0;34m=\u001b[0m \u001b[0mCustomDataSet\u001b[0m\u001b[0;34m(\u001b[0m\u001b[0mcsv_file\u001b[0m \u001b[0;34m=\u001b[0m \u001b[0;34m\"X.csv\"\u001b[0m\u001b[0;34m,\u001b[0m \u001b[0mroot_dir\u001b[0m\u001b[0;34m=\u001b[0m\u001b[0;34m\"./\"\u001b[0m\u001b[0;34m,\u001b[0m \u001b[0mtransform\u001b[0m \u001b[0;34m=\u001b[0m \u001b[0mtransforms\u001b[0m\u001b[0;34m.\u001b[0m\u001b[0mToTensor\u001b[0m\u001b[0;34m(\u001b[0m\u001b[0;34m)\u001b[0m\u001b[0;34m)\u001b[0m\u001b[0;34m\u001b[0m\u001b[0;34m\u001b[0m\u001b[0m\n\u001b[0m\u001b[1;32m     28\u001b[0m \u001b[0mdataset\u001b[0m\u001b[0;34m\u001b[0m\u001b[0;34m\u001b[0m\u001b[0m\n",
      "\u001b[0;32m<ipython-input-10-0b3fe0429baf>\u001b[0m in \u001b[0;36m__init__\u001b[0;34m(self, csv_file, root_dir, transform)\u001b[0m\n\u001b[1;32m      5\u001b[0m \u001b[0;32mclass\u001b[0m \u001b[0mCustomDataSet\u001b[0m\u001b[0;34m(\u001b[0m\u001b[0mDataset\u001b[0m\u001b[0;34m)\u001b[0m\u001b[0;34m:\u001b[0m\u001b[0;34m\u001b[0m\u001b[0;34m\u001b[0m\u001b[0m\n\u001b[1;32m      6\u001b[0m     \u001b[0;32mdef\u001b[0m \u001b[0m__init__\u001b[0m\u001b[0;34m(\u001b[0m\u001b[0mself\u001b[0m\u001b[0;34m,\u001b[0m \u001b[0mcsv_file\u001b[0m\u001b[0;34m,\u001b[0m \u001b[0mroot_dir\u001b[0m\u001b[0;34m,\u001b[0m \u001b[0mtransform\u001b[0m \u001b[0;34m=\u001b[0m \u001b[0;32mNone\u001b[0m\u001b[0;34m)\u001b[0m\u001b[0;34m:\u001b[0m\u001b[0;34m\u001b[0m\u001b[0;34m\u001b[0m\u001b[0m\n\u001b[0;32m----> 7\u001b[0;31m         \u001b[0mself\u001b[0m\u001b[0;34m.\u001b[0m\u001b[0mannotations\u001b[0m \u001b[0;34m=\u001b[0m \u001b[0mpd\u001b[0m\u001b[0;34m.\u001b[0m\u001b[0mread_csv\u001b[0m\u001b[0;34m(\u001b[0m\u001b[0mcsv_file\u001b[0m\u001b[0;34m)\u001b[0m\u001b[0;34m\u001b[0m\u001b[0;34m\u001b[0m\u001b[0m\n\u001b[0m\u001b[1;32m      8\u001b[0m         \u001b[0mself\u001b[0m\u001b[0;34m.\u001b[0m\u001b[0mroot_dir\u001b[0m \u001b[0;34m=\u001b[0m \u001b[0mroot_dir\u001b[0m\u001b[0;34m\u001b[0m\u001b[0;34m\u001b[0m\u001b[0m\n\u001b[1;32m      9\u001b[0m         \u001b[0mself\u001b[0m\u001b[0;34m.\u001b[0m\u001b[0mtransform\u001b[0m \u001b[0;34m=\u001b[0m \u001b[0mtransform\u001b[0m\u001b[0;34m\u001b[0m\u001b[0;34m\u001b[0m\u001b[0m\n",
      "\u001b[0;32m~/projects/env_py3.6/lib/python3.6/site-packages/pandas/io/parsers.py\u001b[0m in \u001b[0;36mread_csv\u001b[0;34m(filepath_or_buffer, sep, delimiter, header, names, index_col, usecols, squeeze, prefix, mangle_dupe_cols, dtype, engine, converters, true_values, false_values, skipinitialspace, skiprows, skipfooter, nrows, na_values, keep_default_na, na_filter, verbose, skip_blank_lines, parse_dates, infer_datetime_format, keep_date_col, date_parser, dayfirst, cache_dates, iterator, chunksize, compression, thousands, decimal, lineterminator, quotechar, quoting, doublequote, escapechar, comment, encoding, dialect, error_bad_lines, warn_bad_lines, delim_whitespace, low_memory, memory_map, float_precision)\u001b[0m\n\u001b[1;32m    684\u001b[0m     )\n\u001b[1;32m    685\u001b[0m \u001b[0;34m\u001b[0m\u001b[0m\n\u001b[0;32m--> 686\u001b[0;31m     \u001b[0;32mreturn\u001b[0m \u001b[0m_read\u001b[0m\u001b[0;34m(\u001b[0m\u001b[0mfilepath_or_buffer\u001b[0m\u001b[0;34m,\u001b[0m \u001b[0mkwds\u001b[0m\u001b[0;34m)\u001b[0m\u001b[0;34m\u001b[0m\u001b[0;34m\u001b[0m\u001b[0m\n\u001b[0m\u001b[1;32m    687\u001b[0m \u001b[0;34m\u001b[0m\u001b[0m\n\u001b[1;32m    688\u001b[0m \u001b[0;34m\u001b[0m\u001b[0m\n",
      "\u001b[0;32m~/projects/env_py3.6/lib/python3.6/site-packages/pandas/io/parsers.py\u001b[0m in \u001b[0;36m_read\u001b[0;34m(filepath_or_buffer, kwds)\u001b[0m\n\u001b[1;32m    450\u001b[0m \u001b[0;34m\u001b[0m\u001b[0m\n\u001b[1;32m    451\u001b[0m     \u001b[0;31m# Create the parser.\u001b[0m\u001b[0;34m\u001b[0m\u001b[0;34m\u001b[0m\u001b[0;34m\u001b[0m\u001b[0m\n\u001b[0;32m--> 452\u001b[0;31m     \u001b[0mparser\u001b[0m \u001b[0;34m=\u001b[0m \u001b[0mTextFileReader\u001b[0m\u001b[0;34m(\u001b[0m\u001b[0mfp_or_buf\u001b[0m\u001b[0;34m,\u001b[0m \u001b[0;34m**\u001b[0m\u001b[0mkwds\u001b[0m\u001b[0;34m)\u001b[0m\u001b[0;34m\u001b[0m\u001b[0;34m\u001b[0m\u001b[0m\n\u001b[0m\u001b[1;32m    453\u001b[0m \u001b[0;34m\u001b[0m\u001b[0m\n\u001b[1;32m    454\u001b[0m     \u001b[0;32mif\u001b[0m \u001b[0mchunksize\u001b[0m \u001b[0;32mor\u001b[0m \u001b[0miterator\u001b[0m\u001b[0;34m:\u001b[0m\u001b[0;34m\u001b[0m\u001b[0;34m\u001b[0m\u001b[0m\n",
      "\u001b[0;32m~/projects/env_py3.6/lib/python3.6/site-packages/pandas/io/parsers.py\u001b[0m in \u001b[0;36m__init__\u001b[0;34m(self, f, engine, **kwds)\u001b[0m\n\u001b[1;32m    944\u001b[0m             \u001b[0mself\u001b[0m\u001b[0;34m.\u001b[0m\u001b[0moptions\u001b[0m\u001b[0;34m[\u001b[0m\u001b[0;34m\"has_index_names\"\u001b[0m\u001b[0;34m]\u001b[0m \u001b[0;34m=\u001b[0m \u001b[0mkwds\u001b[0m\u001b[0;34m[\u001b[0m\u001b[0;34m\"has_index_names\"\u001b[0m\u001b[0;34m]\u001b[0m\u001b[0;34m\u001b[0m\u001b[0;34m\u001b[0m\u001b[0m\n\u001b[1;32m    945\u001b[0m \u001b[0;34m\u001b[0m\u001b[0m\n\u001b[0;32m--> 946\u001b[0;31m         \u001b[0mself\u001b[0m\u001b[0;34m.\u001b[0m\u001b[0m_make_engine\u001b[0m\u001b[0;34m(\u001b[0m\u001b[0mself\u001b[0m\u001b[0;34m.\u001b[0m\u001b[0mengine\u001b[0m\u001b[0;34m)\u001b[0m\u001b[0;34m\u001b[0m\u001b[0;34m\u001b[0m\u001b[0m\n\u001b[0m\u001b[1;32m    947\u001b[0m \u001b[0;34m\u001b[0m\u001b[0m\n\u001b[1;32m    948\u001b[0m     \u001b[0;32mdef\u001b[0m \u001b[0mclose\u001b[0m\u001b[0;34m(\u001b[0m\u001b[0mself\u001b[0m\u001b[0;34m)\u001b[0m\u001b[0;34m:\u001b[0m\u001b[0;34m\u001b[0m\u001b[0;34m\u001b[0m\u001b[0m\n",
      "\u001b[0;32m~/projects/env_py3.6/lib/python3.6/site-packages/pandas/io/parsers.py\u001b[0m in \u001b[0;36m_make_engine\u001b[0;34m(self, engine)\u001b[0m\n\u001b[1;32m   1176\u001b[0m     \u001b[0;32mdef\u001b[0m \u001b[0m_make_engine\u001b[0m\u001b[0;34m(\u001b[0m\u001b[0mself\u001b[0m\u001b[0;34m,\u001b[0m \u001b[0mengine\u001b[0m\u001b[0;34m=\u001b[0m\u001b[0;34m\"c\"\u001b[0m\u001b[0;34m)\u001b[0m\u001b[0;34m:\u001b[0m\u001b[0;34m\u001b[0m\u001b[0;34m\u001b[0m\u001b[0m\n\u001b[1;32m   1177\u001b[0m         \u001b[0;32mif\u001b[0m \u001b[0mengine\u001b[0m \u001b[0;34m==\u001b[0m \u001b[0;34m\"c\"\u001b[0m\u001b[0;34m:\u001b[0m\u001b[0;34m\u001b[0m\u001b[0;34m\u001b[0m\u001b[0m\n\u001b[0;32m-> 1178\u001b[0;31m             \u001b[0mself\u001b[0m\u001b[0;34m.\u001b[0m\u001b[0m_engine\u001b[0m \u001b[0;34m=\u001b[0m \u001b[0mCParserWrapper\u001b[0m\u001b[0;34m(\u001b[0m\u001b[0mself\u001b[0m\u001b[0;34m.\u001b[0m\u001b[0mf\u001b[0m\u001b[0;34m,\u001b[0m \u001b[0;34m**\u001b[0m\u001b[0mself\u001b[0m\u001b[0;34m.\u001b[0m\u001b[0moptions\u001b[0m\u001b[0;34m)\u001b[0m\u001b[0;34m\u001b[0m\u001b[0;34m\u001b[0m\u001b[0m\n\u001b[0m\u001b[1;32m   1179\u001b[0m         \u001b[0;32melse\u001b[0m\u001b[0;34m:\u001b[0m\u001b[0;34m\u001b[0m\u001b[0;34m\u001b[0m\u001b[0m\n\u001b[1;32m   1180\u001b[0m             \u001b[0;32mif\u001b[0m \u001b[0mengine\u001b[0m \u001b[0;34m==\u001b[0m \u001b[0;34m\"python\"\u001b[0m\u001b[0;34m:\u001b[0m\u001b[0;34m\u001b[0m\u001b[0;34m\u001b[0m\u001b[0m\n",
      "\u001b[0;32m~/projects/env_py3.6/lib/python3.6/site-packages/pandas/io/parsers.py\u001b[0m in \u001b[0;36m__init__\u001b[0;34m(self, src, **kwds)\u001b[0m\n\u001b[1;32m   2006\u001b[0m         \u001b[0mkwds\u001b[0m\u001b[0;34m[\u001b[0m\u001b[0;34m\"usecols\"\u001b[0m\u001b[0;34m]\u001b[0m \u001b[0;34m=\u001b[0m \u001b[0mself\u001b[0m\u001b[0;34m.\u001b[0m\u001b[0musecols\u001b[0m\u001b[0;34m\u001b[0m\u001b[0;34m\u001b[0m\u001b[0m\n\u001b[1;32m   2007\u001b[0m \u001b[0;34m\u001b[0m\u001b[0m\n\u001b[0;32m-> 2008\u001b[0;31m         \u001b[0mself\u001b[0m\u001b[0;34m.\u001b[0m\u001b[0m_reader\u001b[0m \u001b[0;34m=\u001b[0m \u001b[0mparsers\u001b[0m\u001b[0;34m.\u001b[0m\u001b[0mTextReader\u001b[0m\u001b[0;34m(\u001b[0m\u001b[0msrc\u001b[0m\u001b[0;34m,\u001b[0m \u001b[0;34m**\u001b[0m\u001b[0mkwds\u001b[0m\u001b[0;34m)\u001b[0m\u001b[0;34m\u001b[0m\u001b[0;34m\u001b[0m\u001b[0m\n\u001b[0m\u001b[1;32m   2009\u001b[0m         \u001b[0mself\u001b[0m\u001b[0;34m.\u001b[0m\u001b[0munnamed_cols\u001b[0m \u001b[0;34m=\u001b[0m \u001b[0mself\u001b[0m\u001b[0;34m.\u001b[0m\u001b[0m_reader\u001b[0m\u001b[0;34m.\u001b[0m\u001b[0munnamed_cols\u001b[0m\u001b[0;34m\u001b[0m\u001b[0;34m\u001b[0m\u001b[0m\n\u001b[1;32m   2010\u001b[0m \u001b[0;34m\u001b[0m\u001b[0m\n",
      "\u001b[0;32mpandas/_libs/parsers.pyx\u001b[0m in \u001b[0;36mpandas._libs.parsers.TextReader.__cinit__\u001b[0;34m()\u001b[0m\n",
      "\u001b[0;32mpandas/_libs/parsers.pyx\u001b[0m in \u001b[0;36mpandas._libs.parsers.TextReader._setup_parser_source\u001b[0;34m()\u001b[0m\n",
      "\u001b[0;31mFileNotFoundError\u001b[0m: [Errno 2] No such file or directory: 'X.csv'"
     ]
    }
   ],
   "source": [
    "# let's make a custom dataset for a folder with Images and a csv file denoting target value for each image\n",
    "from PIL import Image\n",
    "import pandas as pd\n",
    "\n",
    "class CustomDataSet(Dataset):\n",
    "    def __init__(self, csv_file, root_dir, transform = None):\n",
    "        self.annotations = pd.read_csv(csv_file)\n",
    "        self.root_dir = root_dir\n",
    "        self.transform = transform\n",
    "    \n",
    "    def __len__(self):\n",
    "        return len(self.annotations)\n",
    "    \n",
    "    def __getitem__(self, index):\n",
    "        # define path to image\n",
    "        img_path = os.path.join(self.root_dir, self.annotations.iloc[index, 0])\n",
    "        image = Image.open(img_path)\n",
    "        \n",
    "        if self.transform:\n",
    "            image = self.transform(image)\n",
    "        \n",
    "        y_label = torch.tensor(int(self.annotations.iloc[index, 1]))\n",
    "        \n",
    "        return (image, y_label)\n",
    "\n",
    "# Load Data\n",
    "dataset = CustomDataSet(csv_file = \"X.csv\", root_dir=\"./\", transform = transforms.ToTensor())\n",
    "dataset"
   ]
  },
  {
   "cell_type": "code",
   "execution_count": null,
   "metadata": {},
   "outputs": [],
   "source": []
  },
  {
   "cell_type": "code",
   "execution_count": null,
   "metadata": {},
   "outputs": [],
   "source": []
  }
 ],
 "metadata": {
  "colab": {
   "collapsed_sections": [],
   "name": "Pytorch Practice.ipynb",
   "provenance": []
  },
  "kernelspec": {
   "display_name": "Python 3",
   "language": "python",
   "name": "python3"
  },
  "language_info": {
   "codemirror_mode": {
    "name": "ipython",
    "version": 3
   },
   "file_extension": ".py",
   "mimetype": "text/x-python",
   "name": "python",
   "nbconvert_exporter": "python",
   "pygments_lexer": "ipython3",
   "version": "3.6.8"
  },
  "widgets": {
   "application/vnd.jupyter.widget-state+json": {
    "0759575de7bc4756b6bfaed6585fd65f": {
     "model_module": "@jupyter-widgets/controls",
     "model_name": "DescriptionStyleModel",
     "state": {
      "_model_module": "@jupyter-widgets/controls",
      "_model_module_version": "1.5.0",
      "_model_name": "DescriptionStyleModel",
      "_view_count": null,
      "_view_module": "@jupyter-widgets/base",
      "_view_module_version": "1.2.0",
      "_view_name": "StyleView",
      "description_width": ""
     }
    },
    "08cae33d98b94317984a5f5a7d7a8c0d": {
     "model_module": "@jupyter-widgets/base",
     "model_name": "LayoutModel",
     "state": {
      "_model_module": "@jupyter-widgets/base",
      "_model_module_version": "1.2.0",
      "_model_name": "LayoutModel",
      "_view_count": null,
      "_view_module": "@jupyter-widgets/base",
      "_view_module_version": "1.2.0",
      "_view_name": "LayoutView",
      "align_content": null,
      "align_items": null,
      "align_self": null,
      "border": null,
      "bottom": null,
      "display": null,
      "flex": null,
      "flex_flow": null,
      "grid_area": null,
      "grid_auto_columns": null,
      "grid_auto_flow": null,
      "grid_auto_rows": null,
      "grid_column": null,
      "grid_gap": null,
      "grid_row": null,
      "grid_template_areas": null,
      "grid_template_columns": null,
      "grid_template_rows": null,
      "height": null,
      "justify_content": null,
      "justify_items": null,
      "left": null,
      "margin": null,
      "max_height": null,
      "max_width": null,
      "min_height": null,
      "min_width": null,
      "object_fit": null,
      "object_position": null,
      "order": null,
      "overflow": null,
      "overflow_x": null,
      "overflow_y": null,
      "padding": null,
      "right": null,
      "top": null,
      "visibility": null,
      "width": null
     }
    },
    "0907280020434016a2303c22c5f3fe63": {
     "model_module": "@jupyter-widgets/base",
     "model_name": "LayoutModel",
     "state": {
      "_model_module": "@jupyter-widgets/base",
      "_model_module_version": "1.2.0",
      "_model_name": "LayoutModel",
      "_view_count": null,
      "_view_module": "@jupyter-widgets/base",
      "_view_module_version": "1.2.0",
      "_view_name": "LayoutView",
      "align_content": null,
      "align_items": null,
      "align_self": null,
      "border": null,
      "bottom": null,
      "display": null,
      "flex": null,
      "flex_flow": null,
      "grid_area": null,
      "grid_auto_columns": null,
      "grid_auto_flow": null,
      "grid_auto_rows": null,
      "grid_column": null,
      "grid_gap": null,
      "grid_row": null,
      "grid_template_areas": null,
      "grid_template_columns": null,
      "grid_template_rows": null,
      "height": null,
      "justify_content": null,
      "justify_items": null,
      "left": null,
      "margin": null,
      "max_height": null,
      "max_width": null,
      "min_height": null,
      "min_width": null,
      "object_fit": null,
      "object_position": null,
      "order": null,
      "overflow": null,
      "overflow_x": null,
      "overflow_y": null,
      "padding": null,
      "right": null,
      "top": null,
      "visibility": null,
      "width": null
     }
    },
    "0c0c3f15d37e456b8004872d66c73126": {
     "model_module": "@jupyter-widgets/base",
     "model_name": "LayoutModel",
     "state": {
      "_model_module": "@jupyter-widgets/base",
      "_model_module_version": "1.2.0",
      "_model_name": "LayoutModel",
      "_view_count": null,
      "_view_module": "@jupyter-widgets/base",
      "_view_module_version": "1.2.0",
      "_view_name": "LayoutView",
      "align_content": null,
      "align_items": null,
      "align_self": null,
      "border": null,
      "bottom": null,
      "display": null,
      "flex": null,
      "flex_flow": null,
      "grid_area": null,
      "grid_auto_columns": null,
      "grid_auto_flow": null,
      "grid_auto_rows": null,
      "grid_column": null,
      "grid_gap": null,
      "grid_row": null,
      "grid_template_areas": null,
      "grid_template_columns": null,
      "grid_template_rows": null,
      "height": null,
      "justify_content": null,
      "justify_items": null,
      "left": null,
      "margin": null,
      "max_height": null,
      "max_width": null,
      "min_height": null,
      "min_width": null,
      "object_fit": null,
      "object_position": null,
      "order": null,
      "overflow": null,
      "overflow_x": null,
      "overflow_y": null,
      "padding": null,
      "right": null,
      "top": null,
      "visibility": null,
      "width": null
     }
    },
    "0e16013a9c6f437cad7352e53c7f0b75": {
     "model_module": "@jupyter-widgets/controls",
     "model_name": "ProgressStyleModel",
     "state": {
      "_model_module": "@jupyter-widgets/controls",
      "_model_module_version": "1.5.0",
      "_model_name": "ProgressStyleModel",
      "_view_count": null,
      "_view_module": "@jupyter-widgets/base",
      "_view_module_version": "1.2.0",
      "_view_name": "StyleView",
      "bar_color": null,
      "description_width": "initial"
     }
    },
    "0f990bcfa5c24d9cb18d1a828c4592d0": {
     "model_module": "@jupyter-widgets/controls",
     "model_name": "HBoxModel",
     "state": {
      "_dom_classes": [],
      "_model_module": "@jupyter-widgets/controls",
      "_model_module_version": "1.5.0",
      "_model_name": "HBoxModel",
      "_view_count": null,
      "_view_module": "@jupyter-widgets/controls",
      "_view_module_version": "1.5.0",
      "_view_name": "HBoxView",
      "box_style": "",
      "children": [
       "IPY_MODEL_c2850b93cd9d4f95a96bbbbde510caea",
       "IPY_MODEL_9f9f7d86941f41e78734cd0b1c23c63e"
      ],
      "layout": "IPY_MODEL_99a4e73a9cd44f6e8a3d847be788d4fd"
     }
    },
    "149b6ae00dab4081b5618201c57e472e": {
     "model_module": "@jupyter-widgets/base",
     "model_name": "LayoutModel",
     "state": {
      "_model_module": "@jupyter-widgets/base",
      "_model_module_version": "1.2.0",
      "_model_name": "LayoutModel",
      "_view_count": null,
      "_view_module": "@jupyter-widgets/base",
      "_view_module_version": "1.2.0",
      "_view_name": "LayoutView",
      "align_content": null,
      "align_items": null,
      "align_self": null,
      "border": null,
      "bottom": null,
      "display": null,
      "flex": null,
      "flex_flow": null,
      "grid_area": null,
      "grid_auto_columns": null,
      "grid_auto_flow": null,
      "grid_auto_rows": null,
      "grid_column": null,
      "grid_gap": null,
      "grid_row": null,
      "grid_template_areas": null,
      "grid_template_columns": null,
      "grid_template_rows": null,
      "height": null,
      "justify_content": null,
      "justify_items": null,
      "left": null,
      "margin": null,
      "max_height": null,
      "max_width": null,
      "min_height": null,
      "min_width": null,
      "object_fit": null,
      "object_position": null,
      "order": null,
      "overflow": null,
      "overflow_x": null,
      "overflow_y": null,
      "padding": null,
      "right": null,
      "top": null,
      "visibility": null,
      "width": null
     }
    },
    "224fc7639aaf461981f1c8470be4886f": {
     "model_module": "@jupyter-widgets/controls",
     "model_name": "DescriptionStyleModel",
     "state": {
      "_model_module": "@jupyter-widgets/controls",
      "_model_module_version": "1.5.0",
      "_model_name": "DescriptionStyleModel",
      "_view_count": null,
      "_view_module": "@jupyter-widgets/base",
      "_view_module_version": "1.2.0",
      "_view_name": "StyleView",
      "description_width": ""
     }
    },
    "294195fa3fad410f9fc8010c86cc794f": {
     "model_module": "@jupyter-widgets/controls",
     "model_name": "HTMLModel",
     "state": {
      "_dom_classes": [],
      "_model_module": "@jupyter-widgets/controls",
      "_model_module_version": "1.5.0",
      "_model_name": "HTMLModel",
      "_view_count": null,
      "_view_module": "@jupyter-widgets/controls",
      "_view_module_version": "1.5.0",
      "_view_name": "HTMLView",
      "description": "",
      "description_tooltip": null,
      "layout": "IPY_MODEL_6f896ebd657640b5b2aa88f73a67ca3a",
      "placeholder": "​",
      "style": "IPY_MODEL_881ff1f89fac439b8230ce4c07ff5103",
      "value": " 9920512/? [00:20&lt;00:00, 14724009.37it/s]"
     }
    },
    "2debae5ff09a48a8b9737dd74dd82655": {
     "model_module": "@jupyter-widgets/base",
     "model_name": "LayoutModel",
     "state": {
      "_model_module": "@jupyter-widgets/base",
      "_model_module_version": "1.2.0",
      "_model_name": "LayoutModel",
      "_view_count": null,
      "_view_module": "@jupyter-widgets/base",
      "_view_module_version": "1.2.0",
      "_view_name": "LayoutView",
      "align_content": null,
      "align_items": null,
      "align_self": null,
      "border": null,
      "bottom": null,
      "display": null,
      "flex": null,
      "flex_flow": null,
      "grid_area": null,
      "grid_auto_columns": null,
      "grid_auto_flow": null,
      "grid_auto_rows": null,
      "grid_column": null,
      "grid_gap": null,
      "grid_row": null,
      "grid_template_areas": null,
      "grid_template_columns": null,
      "grid_template_rows": null,
      "height": null,
      "justify_content": null,
      "justify_items": null,
      "left": null,
      "margin": null,
      "max_height": null,
      "max_width": null,
      "min_height": null,
      "min_width": null,
      "object_fit": null,
      "object_position": null,
      "order": null,
      "overflow": null,
      "overflow_x": null,
      "overflow_y": null,
      "padding": null,
      "right": null,
      "top": null,
      "visibility": null,
      "width": null
     }
    },
    "31660ed519e94aa8a2aea5c6fe09e9cc": {
     "model_module": "@jupyter-widgets/controls",
     "model_name": "HTMLModel",
     "state": {
      "_dom_classes": [],
      "_model_module": "@jupyter-widgets/controls",
      "_model_module_version": "1.5.0",
      "_model_name": "HTMLModel",
      "_view_count": null,
      "_view_module": "@jupyter-widgets/controls",
      "_view_module_version": "1.5.0",
      "_view_name": "HTMLView",
      "description": "",
      "description_tooltip": null,
      "layout": "IPY_MODEL_149b6ae00dab4081b5618201c57e472e",
      "placeholder": "​",
      "style": "IPY_MODEL_224fc7639aaf461981f1c8470be4886f",
      "value": " 32768/? [00:00&lt;00:00, 88227.28it/s]"
     }
    },
    "36e5387c41f44be79e354bc1515659f8": {
     "model_module": "@jupyter-widgets/base",
     "model_name": "LayoutModel",
     "state": {
      "_model_module": "@jupyter-widgets/base",
      "_model_module_version": "1.2.0",
      "_model_name": "LayoutModel",
      "_view_count": null,
      "_view_module": "@jupyter-widgets/base",
      "_view_module_version": "1.2.0",
      "_view_name": "LayoutView",
      "align_content": null,
      "align_items": null,
      "align_self": null,
      "border": null,
      "bottom": null,
      "display": null,
      "flex": null,
      "flex_flow": null,
      "grid_area": null,
      "grid_auto_columns": null,
      "grid_auto_flow": null,
      "grid_auto_rows": null,
      "grid_column": null,
      "grid_gap": null,
      "grid_row": null,
      "grid_template_areas": null,
      "grid_template_columns": null,
      "grid_template_rows": null,
      "height": null,
      "justify_content": null,
      "justify_items": null,
      "left": null,
      "margin": null,
      "max_height": null,
      "max_width": null,
      "min_height": null,
      "min_width": null,
      "object_fit": null,
      "object_position": null,
      "order": null,
      "overflow": null,
      "overflow_x": null,
      "overflow_y": null,
      "padding": null,
      "right": null,
      "top": null,
      "visibility": null,
      "width": null
     }
    },
    "4c9428894ae043459847b5db0d90ebee": {
     "model_module": "@jupyter-widgets/controls",
     "model_name": "HBoxModel",
     "state": {
      "_dom_classes": [],
      "_model_module": "@jupyter-widgets/controls",
      "_model_module_version": "1.5.0",
      "_model_name": "HBoxModel",
      "_view_count": null,
      "_view_module": "@jupyter-widgets/controls",
      "_view_module_version": "1.5.0",
      "_view_name": "HBoxView",
      "box_style": "",
      "children": [
       "IPY_MODEL_f06ff141ebfa40e4a99ccf30d3549cc9",
       "IPY_MODEL_be2e65a393b74f59b1aeeb3309d536f6"
      ],
      "layout": "IPY_MODEL_bccad014a3974a738b0c69fc2053f17b"
     }
    },
    "62c3c21f67214e84b045f0a8ad4e3832": {
     "model_module": "@jupyter-widgets/controls",
     "model_name": "DescriptionStyleModel",
     "state": {
      "_model_module": "@jupyter-widgets/controls",
      "_model_module_version": "1.5.0",
      "_model_name": "DescriptionStyleModel",
      "_view_count": null,
      "_view_module": "@jupyter-widgets/base",
      "_view_module_version": "1.2.0",
      "_view_name": "StyleView",
      "description_width": ""
     }
    },
    "6f896ebd657640b5b2aa88f73a67ca3a": {
     "model_module": "@jupyter-widgets/base",
     "model_name": "LayoutModel",
     "state": {
      "_model_module": "@jupyter-widgets/base",
      "_model_module_version": "1.2.0",
      "_model_name": "LayoutModel",
      "_view_count": null,
      "_view_module": "@jupyter-widgets/base",
      "_view_module_version": "1.2.0",
      "_view_name": "LayoutView",
      "align_content": null,
      "align_items": null,
      "align_self": null,
      "border": null,
      "bottom": null,
      "display": null,
      "flex": null,
      "flex_flow": null,
      "grid_area": null,
      "grid_auto_columns": null,
      "grid_auto_flow": null,
      "grid_auto_rows": null,
      "grid_column": null,
      "grid_gap": null,
      "grid_row": null,
      "grid_template_areas": null,
      "grid_template_columns": null,
      "grid_template_rows": null,
      "height": null,
      "justify_content": null,
      "justify_items": null,
      "left": null,
      "margin": null,
      "max_height": null,
      "max_width": null,
      "min_height": null,
      "min_width": null,
      "object_fit": null,
      "object_position": null,
      "order": null,
      "overflow": null,
      "overflow_x": null,
      "overflow_y": null,
      "padding": null,
      "right": null,
      "top": null,
      "visibility": null,
      "width": null
     }
    },
    "706b6efe622f43598720c25b06b29f18": {
     "model_module": "@jupyter-widgets/controls",
     "model_name": "ProgressStyleModel",
     "state": {
      "_model_module": "@jupyter-widgets/controls",
      "_model_module_version": "1.5.0",
      "_model_name": "ProgressStyleModel",
      "_view_count": null,
      "_view_module": "@jupyter-widgets/base",
      "_view_module_version": "1.2.0",
      "_view_name": "StyleView",
      "bar_color": null,
      "description_width": "initial"
     }
    },
    "7ee70b533f8a42ca901814c549f69118": {
     "model_module": "@jupyter-widgets/controls",
     "model_name": "IntProgressModel",
     "state": {
      "_dom_classes": [],
      "_model_module": "@jupyter-widgets/controls",
      "_model_module_version": "1.5.0",
      "_model_name": "IntProgressModel",
      "_view_count": null,
      "_view_module": "@jupyter-widgets/controls",
      "_view_module_version": "1.5.0",
      "_view_name": "ProgressView",
      "bar_style": "info",
      "description": "",
      "description_tooltip": null,
      "layout": "IPY_MODEL_36e5387c41f44be79e354bc1515659f8",
      "max": 1,
      "min": 0,
      "orientation": "horizontal",
      "style": "IPY_MODEL_f2dad86820f84691a4fa0ca7948e4f5b",
      "value": 1
     }
    },
    "81e3797ae9ab4b1b9a99a3c54a02f137": {
     "model_module": "@jupyter-widgets/controls",
     "model_name": "HBoxModel",
     "state": {
      "_dom_classes": [],
      "_model_module": "@jupyter-widgets/controls",
      "_model_module_version": "1.5.0",
      "_model_name": "HBoxModel",
      "_view_count": null,
      "_view_module": "@jupyter-widgets/controls",
      "_view_module_version": "1.5.0",
      "_view_name": "HBoxView",
      "box_style": "",
      "children": [
       "IPY_MODEL_7ee70b533f8a42ca901814c549f69118",
       "IPY_MODEL_294195fa3fad410f9fc8010c86cc794f"
      ],
      "layout": "IPY_MODEL_8e923bf30a324ac4a746d9acafde7e2f"
     }
    },
    "881ff1f89fac439b8230ce4c07ff5103": {
     "model_module": "@jupyter-widgets/controls",
     "model_name": "DescriptionStyleModel",
     "state": {
      "_model_module": "@jupyter-widgets/controls",
      "_model_module_version": "1.5.0",
      "_model_name": "DescriptionStyleModel",
      "_view_count": null,
      "_view_module": "@jupyter-widgets/base",
      "_view_module_version": "1.2.0",
      "_view_name": "StyleView",
      "description_width": ""
     }
    },
    "8e923bf30a324ac4a746d9acafde7e2f": {
     "model_module": "@jupyter-widgets/base",
     "model_name": "LayoutModel",
     "state": {
      "_model_module": "@jupyter-widgets/base",
      "_model_module_version": "1.2.0",
      "_model_name": "LayoutModel",
      "_view_count": null,
      "_view_module": "@jupyter-widgets/base",
      "_view_module_version": "1.2.0",
      "_view_name": "LayoutView",
      "align_content": null,
      "align_items": null,
      "align_self": null,
      "border": null,
      "bottom": null,
      "display": null,
      "flex": null,
      "flex_flow": null,
      "grid_area": null,
      "grid_auto_columns": null,
      "grid_auto_flow": null,
      "grid_auto_rows": null,
      "grid_column": null,
      "grid_gap": null,
      "grid_row": null,
      "grid_template_areas": null,
      "grid_template_columns": null,
      "grid_template_rows": null,
      "height": null,
      "justify_content": null,
      "justify_items": null,
      "left": null,
      "margin": null,
      "max_height": null,
      "max_width": null,
      "min_height": null,
      "min_width": null,
      "object_fit": null,
      "object_position": null,
      "order": null,
      "overflow": null,
      "overflow_x": null,
      "overflow_y": null,
      "padding": null,
      "right": null,
      "top": null,
      "visibility": null,
      "width": null
     }
    },
    "99a4e73a9cd44f6e8a3d847be788d4fd": {
     "model_module": "@jupyter-widgets/base",
     "model_name": "LayoutModel",
     "state": {
      "_model_module": "@jupyter-widgets/base",
      "_model_module_version": "1.2.0",
      "_model_name": "LayoutModel",
      "_view_count": null,
      "_view_module": "@jupyter-widgets/base",
      "_view_module_version": "1.2.0",
      "_view_name": "LayoutView",
      "align_content": null,
      "align_items": null,
      "align_self": null,
      "border": null,
      "bottom": null,
      "display": null,
      "flex": null,
      "flex_flow": null,
      "grid_area": null,
      "grid_auto_columns": null,
      "grid_auto_flow": null,
      "grid_auto_rows": null,
      "grid_column": null,
      "grid_gap": null,
      "grid_row": null,
      "grid_template_areas": null,
      "grid_template_columns": null,
      "grid_template_rows": null,
      "height": null,
      "justify_content": null,
      "justify_items": null,
      "left": null,
      "margin": null,
      "max_height": null,
      "max_width": null,
      "min_height": null,
      "min_width": null,
      "object_fit": null,
      "object_position": null,
      "order": null,
      "overflow": null,
      "overflow_x": null,
      "overflow_y": null,
      "padding": null,
      "right": null,
      "top": null,
      "visibility": null,
      "width": null
     }
    },
    "9a22c2c05e9c4cf3923a0a380ce894b8": {
     "model_module": "@jupyter-widgets/controls",
     "model_name": "HBoxModel",
     "state": {
      "_dom_classes": [],
      "_model_module": "@jupyter-widgets/controls",
      "_model_module_version": "1.5.0",
      "_model_name": "HBoxModel",
      "_view_count": null,
      "_view_module": "@jupyter-widgets/controls",
      "_view_module_version": "1.5.0",
      "_view_name": "HBoxView",
      "box_style": "",
      "children": [
       "IPY_MODEL_c246c334b46340bfb0307b22f3ba7214",
       "IPY_MODEL_31660ed519e94aa8a2aea5c6fe09e9cc"
      ],
      "layout": "IPY_MODEL_2debae5ff09a48a8b9737dd74dd82655"
     }
    },
    "9f9f7d86941f41e78734cd0b1c23c63e": {
     "model_module": "@jupyter-widgets/controls",
     "model_name": "HTMLModel",
     "state": {
      "_dom_classes": [],
      "_model_module": "@jupyter-widgets/controls",
      "_model_module_version": "1.5.0",
      "_model_name": "HTMLModel",
      "_view_count": null,
      "_view_module": "@jupyter-widgets/controls",
      "_view_module_version": "1.5.0",
      "_view_name": "HTMLView",
      "description": "",
      "description_tooltip": null,
      "layout": "IPY_MODEL_a26b2c63ba394e82b6fee22f62634934",
      "placeholder": "​",
      "style": "IPY_MODEL_0759575de7bc4756b6bfaed6585fd65f",
      "value": " 1654784/? [00:00&lt;00:00, 5837423.33it/s]"
     }
    },
    "a26b2c63ba394e82b6fee22f62634934": {
     "model_module": "@jupyter-widgets/base",
     "model_name": "LayoutModel",
     "state": {
      "_model_module": "@jupyter-widgets/base",
      "_model_module_version": "1.2.0",
      "_model_name": "LayoutModel",
      "_view_count": null,
      "_view_module": "@jupyter-widgets/base",
      "_view_module_version": "1.2.0",
      "_view_name": "LayoutView",
      "align_content": null,
      "align_items": null,
      "align_self": null,
      "border": null,
      "bottom": null,
      "display": null,
      "flex": null,
      "flex_flow": null,
      "grid_area": null,
      "grid_auto_columns": null,
      "grid_auto_flow": null,
      "grid_auto_rows": null,
      "grid_column": null,
      "grid_gap": null,
      "grid_row": null,
      "grid_template_areas": null,
      "grid_template_columns": null,
      "grid_template_rows": null,
      "height": null,
      "justify_content": null,
      "justify_items": null,
      "left": null,
      "margin": null,
      "max_height": null,
      "max_width": null,
      "min_height": null,
      "min_width": null,
      "object_fit": null,
      "object_position": null,
      "order": null,
      "overflow": null,
      "overflow_x": null,
      "overflow_y": null,
      "padding": null,
      "right": null,
      "top": null,
      "visibility": null,
      "width": null
     }
    },
    "adbca9f0545849e2850a8900c9a4e479": {
     "model_module": "@jupyter-widgets/base",
     "model_name": "LayoutModel",
     "state": {
      "_model_module": "@jupyter-widgets/base",
      "_model_module_version": "1.2.0",
      "_model_name": "LayoutModel",
      "_view_count": null,
      "_view_module": "@jupyter-widgets/base",
      "_view_module_version": "1.2.0",
      "_view_name": "LayoutView",
      "align_content": null,
      "align_items": null,
      "align_self": null,
      "border": null,
      "bottom": null,
      "display": null,
      "flex": null,
      "flex_flow": null,
      "grid_area": null,
      "grid_auto_columns": null,
      "grid_auto_flow": null,
      "grid_auto_rows": null,
      "grid_column": null,
      "grid_gap": null,
      "grid_row": null,
      "grid_template_areas": null,
      "grid_template_columns": null,
      "grid_template_rows": null,
      "height": null,
      "justify_content": null,
      "justify_items": null,
      "left": null,
      "margin": null,
      "max_height": null,
      "max_width": null,
      "min_height": null,
      "min_width": null,
      "object_fit": null,
      "object_position": null,
      "order": null,
      "overflow": null,
      "overflow_x": null,
      "overflow_y": null,
      "padding": null,
      "right": null,
      "top": null,
      "visibility": null,
      "width": null
     }
    },
    "bccad014a3974a738b0c69fc2053f17b": {
     "model_module": "@jupyter-widgets/base",
     "model_name": "LayoutModel",
     "state": {
      "_model_module": "@jupyter-widgets/base",
      "_model_module_version": "1.2.0",
      "_model_name": "LayoutModel",
      "_view_count": null,
      "_view_module": "@jupyter-widgets/base",
      "_view_module_version": "1.2.0",
      "_view_name": "LayoutView",
      "align_content": null,
      "align_items": null,
      "align_self": null,
      "border": null,
      "bottom": null,
      "display": null,
      "flex": null,
      "flex_flow": null,
      "grid_area": null,
      "grid_auto_columns": null,
      "grid_auto_flow": null,
      "grid_auto_rows": null,
      "grid_column": null,
      "grid_gap": null,
      "grid_row": null,
      "grid_template_areas": null,
      "grid_template_columns": null,
      "grid_template_rows": null,
      "height": null,
      "justify_content": null,
      "justify_items": null,
      "left": null,
      "margin": null,
      "max_height": null,
      "max_width": null,
      "min_height": null,
      "min_width": null,
      "object_fit": null,
      "object_position": null,
      "order": null,
      "overflow": null,
      "overflow_x": null,
      "overflow_y": null,
      "padding": null,
      "right": null,
      "top": null,
      "visibility": null,
      "width": null
     }
    },
    "be2e65a393b74f59b1aeeb3309d536f6": {
     "model_module": "@jupyter-widgets/controls",
     "model_name": "HTMLModel",
     "state": {
      "_dom_classes": [],
      "_model_module": "@jupyter-widgets/controls",
      "_model_module_version": "1.5.0",
      "_model_name": "HTMLModel",
      "_view_count": null,
      "_view_module": "@jupyter-widgets/controls",
      "_view_module_version": "1.5.0",
      "_view_name": "HTMLView",
      "description": "",
      "description_tooltip": null,
      "layout": "IPY_MODEL_adbca9f0545849e2850a8900c9a4e479",
      "placeholder": "​",
      "style": "IPY_MODEL_62c3c21f67214e84b045f0a8ad4e3832",
      "value": " 0/? [00:00&lt;?, ?it/s]"
     }
    },
    "c246c334b46340bfb0307b22f3ba7214": {
     "model_module": "@jupyter-widgets/controls",
     "model_name": "IntProgressModel",
     "state": {
      "_dom_classes": [],
      "_model_module": "@jupyter-widgets/controls",
      "_model_module_version": "1.5.0",
      "_model_name": "IntProgressModel",
      "_view_count": null,
      "_view_module": "@jupyter-widgets/controls",
      "_view_module_version": "1.5.0",
      "_view_name": "ProgressView",
      "bar_style": "success",
      "description": "",
      "description_tooltip": null,
      "layout": "IPY_MODEL_0907280020434016a2303c22c5f3fe63",
      "max": 1,
      "min": 0,
      "orientation": "horizontal",
      "style": "IPY_MODEL_f33d9a4a565e4735ae4f1e9d23fb00f4",
      "value": 1
     }
    },
    "c2850b93cd9d4f95a96bbbbde510caea": {
     "model_module": "@jupyter-widgets/controls",
     "model_name": "IntProgressModel",
     "state": {
      "_dom_classes": [],
      "_model_module": "@jupyter-widgets/controls",
      "_model_module_version": "1.5.0",
      "_model_name": "IntProgressModel",
      "_view_count": null,
      "_view_module": "@jupyter-widgets/controls",
      "_view_module_version": "1.5.0",
      "_view_name": "ProgressView",
      "bar_style": "success",
      "description": "",
      "description_tooltip": null,
      "layout": "IPY_MODEL_0c0c3f15d37e456b8004872d66c73126",
      "max": 1,
      "min": 0,
      "orientation": "horizontal",
      "style": "IPY_MODEL_0e16013a9c6f437cad7352e53c7f0b75",
      "value": 1
     }
    },
    "f06ff141ebfa40e4a99ccf30d3549cc9": {
     "model_module": "@jupyter-widgets/controls",
     "model_name": "IntProgressModel",
     "state": {
      "_dom_classes": [],
      "_model_module": "@jupyter-widgets/controls",
      "_model_module_version": "1.5.0",
      "_model_name": "IntProgressModel",
      "_view_count": null,
      "_view_module": "@jupyter-widgets/controls",
      "_view_module_version": "1.5.0",
      "_view_name": "ProgressView",
      "bar_style": "info",
      "description": "",
      "description_tooltip": null,
      "layout": "IPY_MODEL_08cae33d98b94317984a5f5a7d7a8c0d",
      "max": 1,
      "min": 0,
      "orientation": "horizontal",
      "style": "IPY_MODEL_706b6efe622f43598720c25b06b29f18",
      "value": 0
     }
    },
    "f2dad86820f84691a4fa0ca7948e4f5b": {
     "model_module": "@jupyter-widgets/controls",
     "model_name": "ProgressStyleModel",
     "state": {
      "_model_module": "@jupyter-widgets/controls",
      "_model_module_version": "1.5.0",
      "_model_name": "ProgressStyleModel",
      "_view_count": null,
      "_view_module": "@jupyter-widgets/base",
      "_view_module_version": "1.2.0",
      "_view_name": "StyleView",
      "bar_color": null,
      "description_width": "initial"
     }
    },
    "f33d9a4a565e4735ae4f1e9d23fb00f4": {
     "model_module": "@jupyter-widgets/controls",
     "model_name": "ProgressStyleModel",
     "state": {
      "_model_module": "@jupyter-widgets/controls",
      "_model_module_version": "1.5.0",
      "_model_name": "ProgressStyleModel",
      "_view_count": null,
      "_view_module": "@jupyter-widgets/base",
      "_view_module_version": "1.2.0",
      "_view_name": "StyleView",
      "bar_color": null,
      "description_width": "initial"
     }
    }
   }
  }
 },
 "nbformat": 4,
 "nbformat_minor": 1
}
